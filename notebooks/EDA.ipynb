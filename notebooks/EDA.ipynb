{
 "cells": [
  {
   "cell_type": "markdown",
   "metadata": {},
   "source": [
    "# Introduction to EDA Notebook\n",
    "\n",
    "\"\"\"\n",
    "### Notebook Objective\n",
    "\n",
    "This notebook aims to perform Exploratory Data Analysis (EDA) on a dataset containing text from Stormfront, a white supremacist forum. The goal is to understand its characteristics and identify necessary preprocessing steps for model training.\n",
    "\n",
    "### Data Overview\n",
    "\n",
    "The dataset contains posts from various subforums that have been split into sentences. These sentences are manually labeled for hate speech. For more details, refer to the article available [here](https://www.aclweb.org/anthology/W18-51.pdf) (page 25 onward).\n",
    "\n",
    "### Dataset Files\n",
    "\n",
    "1. **all_files**: Contains all forum posts, with each file representing a sentence. File names are in the format `commentID_sentenceNumber.txt`.\n",
    "2. **sampled_train**: Balanced set of labeled sentences used for training.\n",
    "3. **sampled_test**: Balanced set of labeled sentences used for testing.\n",
    "4. **annotations_metadata.csv**: Contains labels, context needs, user IDs, and subforum IDs.\n",
    "\n",
    "### Hate Speech Definition\n",
    "\n",
    "The paper defines hate speech as: \n",
    "    \"any communication that disparages a target group of people based on some characteristic such as race, color, ethnicity, gender, sexual orientation, nationality, religion, or other characteristic.\"\n",
    "\n",
    "### Notebook Structure\n",
    "\n",
    "1. **Setup**\n",
    "   - Import libraries, set random seed, and define data paths.\n",
    "2. **Data Loading**\n",
    "   - Load datasets and display initial rows.\n",
    "3. **Data Exploration**\n",
    "   - **Overview**: Data types, missing values, statistics, distributions.\n",
    "   - **Label Distribution**: Balance between classes.\n",
    "   - **Text Length Analysis**: Comment length distributions.\n",
    "   - **Word Frequency Analysis**: Common words.\n",
    "   - **Subforum Analysis**: Tendencies towards hate speech.\n",
    "   - **User Analysis**: Post frequency and hate speech ratio.\n",
    "   - **Context Need Analysis**: Frequency of additional context requirement.\n",
    "4. **Text Data**\n",
    "   - Clean text.\n",
    "5. **Export Cleaned Data**\n",
    "   - Save processed data for model training.\n",
    "\"\"\"\n"
   ]
  },
  {
   "cell_type": "markdown",
   "metadata": {},
   "source": [
    "# Setup"
   ]
  },
  {
   "cell_type": "code",
   "execution_count": 1,
   "metadata": {},
   "outputs": [],
   "source": [
    "import pandas as pd \n",
    "import os\n",
    "import glob\n",
    "import numpy as np \n",
    "import random\n",
    "from cleantext.sklearn import CleanTransformer\n",
    "from sklearn.model_selection import train_test_split\n",
    "from matplotlib import pyplot as plt\n",
    "import seaborn as sns\n",
    "import sweetviz as sv\n",
    "\n",
    "\n",
    "# Set a random seed for reproducibility\n",
    "random.seed(42)\n"
   ]
  },
  {
   "cell_type": "code",
   "execution_count": 2,
   "metadata": {},
   "outputs": [],
   "source": [
    "metadata_path = \"../data/annotations_metadata.csv\"\n",
    "all_files_path = \"../data/all_files\"\n",
    "sampled_test_path = \"../data/sampled_test\"\n",
    "sampled_train_path = \"../data/sampled_train\"\n"
   ]
  },
  {
   "cell_type": "markdown",
   "metadata": {},
   "source": [
    "# Importing data "
   ]
  },
  {
   "cell_type": "code",
   "execution_count": 3,
   "metadata": {},
   "outputs": [],
   "source": [
    "def read_files_in_directory(directory_path):\n",
    "    \"\"\"\n",
    "    Reads all text files in the specified directory and extracts content along with file metadata.\n",
    "\n",
    "    Args:\n",
    "    directory_path (str): The path to the directory containing text files.\n",
    "\n",
    "    Returns:\n",
    "    df (pd.DataFrame): DataFrame containing file_id and text\n",
    "    \"\"\"\n",
    "    # List all txt files in the specified directory\n",
    "    all_files_list = glob.glob(os.path.join(directory_path, '*.txt'))\n",
    "    \n",
    "    # Initialize a list to store the content and metadata\n",
    "    all_files_data = []\n",
    "    \n",
    "    # Read each file and store the contents along with the file name information\n",
    "    for file_path in all_files_list:\n",
    "        with open(file_path, 'r', encoding='utf-8') as file:\n",
    "            # Extract file name without the directory path and extension\n",
    "            file_name = os.path.basename(file_path).split('.')[0]\n",
    "            # Split the file name to get comment ID and sentence number\n",
    "            all_files_data.append((file_name, file.read()))\n",
    "        \n",
    "    # Create a DataFrame from the collected data\n",
    "    df = pd.DataFrame(all_files_data, columns=['file_id', 'text'])\n",
    "    \n",
    "    # display the first few rows of the DataFrame\n",
    "    print(df.shape)\n",
    "    display(df.head(3))\n",
    "    return df\n"
   ]
  },
  {
   "cell_type": "code",
   "execution_count": 4,
   "metadata": {},
   "outputs": [
    {
     "data": {
      "text/plain": [
       "(10944, 5)"
      ]
     },
     "metadata": {},
     "output_type": "display_data"
    },
    {
     "data": {
      "text/html": [
       "<div>\n",
       "<style scoped>\n",
       "    .dataframe tbody tr th:only-of-type {\n",
       "        vertical-align: middle;\n",
       "    }\n",
       "\n",
       "    .dataframe tbody tr th {\n",
       "        vertical-align: top;\n",
       "    }\n",
       "\n",
       "    .dataframe thead th {\n",
       "        text-align: right;\n",
       "    }\n",
       "</style>\n",
       "<table border=\"1\" class=\"dataframe\">\n",
       "  <thead>\n",
       "    <tr style=\"text-align: right;\">\n",
       "      <th></th>\n",
       "      <th>file_id</th>\n",
       "      <th>user_id</th>\n",
       "      <th>subforum_id</th>\n",
       "      <th>num_contexts</th>\n",
       "      <th>label</th>\n",
       "    </tr>\n",
       "  </thead>\n",
       "  <tbody>\n",
       "    <tr>\n",
       "      <th>0</th>\n",
       "      <td>12834217_1</td>\n",
       "      <td>572066</td>\n",
       "      <td>1346</td>\n",
       "      <td>0</td>\n",
       "      <td>noHate</td>\n",
       "    </tr>\n",
       "  </tbody>\n",
       "</table>\n",
       "</div>"
      ],
      "text/plain": [
       "      file_id  user_id  subforum_id  num_contexts   label\n",
       "0  12834217_1   572066         1346             0  noHate"
      ]
     },
     "execution_count": 4,
     "metadata": {},
     "output_type": "execute_result"
    }
   ],
   "source": [
    "df_metadata = pd.read_csv(metadata_path)\n",
    "display(df_metadata.shape)\n",
    "df_metadata.head(1)"
   ]
  },
  {
   "cell_type": "code",
   "execution_count": 5,
   "metadata": {},
   "outputs": [
    {
     "name": "stdout",
     "output_type": "stream",
     "text": [
      "(10944, 2)\n"
     ]
    },
    {
     "data": {
      "text/html": [
       "<div>\n",
       "<style scoped>\n",
       "    .dataframe tbody tr th:only-of-type {\n",
       "        vertical-align: middle;\n",
       "    }\n",
       "\n",
       "    .dataframe tbody tr th {\n",
       "        vertical-align: top;\n",
       "    }\n",
       "\n",
       "    .dataframe thead th {\n",
       "        text-align: right;\n",
       "    }\n",
       "</style>\n",
       "<table border=\"1\" class=\"dataframe\">\n",
       "  <thead>\n",
       "    <tr style=\"text-align: right;\">\n",
       "      <th></th>\n",
       "      <th>file_id</th>\n",
       "      <th>text</th>\n",
       "    </tr>\n",
       "  </thead>\n",
       "  <tbody>\n",
       "    <tr>\n",
       "      <th>0</th>\n",
       "      <td>13458115_2</td>\n",
       "      <td>It 's like that at most public boards .</td>\n",
       "    </tr>\n",
       "    <tr>\n",
       "      <th>1</th>\n",
       "      <td>13367480_1</td>\n",
       "      <td>I wonder if one of the victims opened the door...</td>\n",
       "    </tr>\n",
       "    <tr>\n",
       "      <th>2</th>\n",
       "      <td>30422449_1</td>\n",
       "      <td>Some people believe the Jack O ' Lantern also ...</td>\n",
       "    </tr>\n",
       "  </tbody>\n",
       "</table>\n",
       "</div>"
      ],
      "text/plain": [
       "      file_id                                               text\n",
       "0  13458115_2            It 's like that at most public boards .\n",
       "1  13367480_1  I wonder if one of the victims opened the door...\n",
       "2  30422449_1  Some people believe the Jack O ' Lantern also ..."
      ]
     },
     "metadata": {},
     "output_type": "display_data"
    }
   ],
   "source": [
    "df_all_files = read_files_in_directory(all_files_path)"
   ]
  },
  {
   "cell_type": "code",
   "execution_count": 6,
   "metadata": {},
   "outputs": [
    {
     "name": "stdout",
     "output_type": "stream",
     "text": [
      "(478, 2)\n"
     ]
    },
    {
     "data": {
      "text/html": [
       "<div>\n",
       "<style scoped>\n",
       "    .dataframe tbody tr th:only-of-type {\n",
       "        vertical-align: middle;\n",
       "    }\n",
       "\n",
       "    .dataframe tbody tr th {\n",
       "        vertical-align: top;\n",
       "    }\n",
       "\n",
       "    .dataframe thead th {\n",
       "        text-align: right;\n",
       "    }\n",
       "</style>\n",
       "<table border=\"1\" class=\"dataframe\">\n",
       "  <thead>\n",
       "    <tr style=\"text-align: right;\">\n",
       "      <th></th>\n",
       "      <th>file_id</th>\n",
       "      <th>text</th>\n",
       "    </tr>\n",
       "  </thead>\n",
       "  <tbody>\n",
       "    <tr>\n",
       "      <th>0</th>\n",
       "      <td>30399453_2</td>\n",
       "      <td>I can give you her Skype and she will answer a...</td>\n",
       "    </tr>\n",
       "    <tr>\n",
       "      <th>1</th>\n",
       "      <td>13456898_1</td>\n",
       "      <td>I know exactly what you 're saying , I just ha...</td>\n",
       "    </tr>\n",
       "    <tr>\n",
       "      <th>2</th>\n",
       "      <td>13605248_8</td>\n",
       "      <td>Norway : 3.3 ( 2001 ) , 3.9 ( 2002 ) , 3.5 ( 2...</td>\n",
       "    </tr>\n",
       "  </tbody>\n",
       "</table>\n",
       "</div>"
      ],
      "text/plain": [
       "      file_id                                               text\n",
       "0  30399453_2  I can give you her Skype and she will answer a...\n",
       "1  13456898_1  I know exactly what you 're saying , I just ha...\n",
       "2  13605248_8  Norway : 3.3 ( 2001 ) , 3.9 ( 2002 ) , 3.5 ( 2..."
      ]
     },
     "metadata": {},
     "output_type": "display_data"
    }
   ],
   "source": [
    "df_sampled_test = read_files_in_directory(sampled_test_path)"
   ]
  },
  {
   "cell_type": "code",
   "execution_count": 7,
   "metadata": {},
   "outputs": [
    {
     "name": "stdout",
     "output_type": "stream",
     "text": [
      "(1914, 2)\n"
     ]
    },
    {
     "data": {
      "text/html": [
       "<div>\n",
       "<style scoped>\n",
       "    .dataframe tbody tr th:only-of-type {\n",
       "        vertical-align: middle;\n",
       "    }\n",
       "\n",
       "    .dataframe tbody tr th {\n",
       "        vertical-align: top;\n",
       "    }\n",
       "\n",
       "    .dataframe thead th {\n",
       "        text-align: right;\n",
       "    }\n",
       "</style>\n",
       "<table border=\"1\" class=\"dataframe\">\n",
       "  <thead>\n",
       "    <tr style=\"text-align: right;\">\n",
       "      <th></th>\n",
       "      <th>file_id</th>\n",
       "      <th>text</th>\n",
       "    </tr>\n",
       "  </thead>\n",
       "  <tbody>\n",
       "    <tr>\n",
       "      <th>0</th>\n",
       "      <td>14651837_4</td>\n",
       "      <td>Ready .... GO !!!</td>\n",
       "    </tr>\n",
       "    <tr>\n",
       "      <th>1</th>\n",
       "      <td>31713873_1</td>\n",
       "      <td>If i sent you some pic wound use be able to pu...</td>\n",
       "    </tr>\n",
       "    <tr>\n",
       "      <th>2</th>\n",
       "      <td>30586609_1</td>\n",
       "      <td>ALWAYS SPEAK OUT WHEN IN A CLASS WITH A BRAINW...</td>\n",
       "    </tr>\n",
       "  </tbody>\n",
       "</table>\n",
       "</div>"
      ],
      "text/plain": [
       "      file_id                                               text\n",
       "0  14651837_4                                  Ready .... GO !!!\n",
       "1  31713873_1  If i sent you some pic wound use be able to pu...\n",
       "2  30586609_1  ALWAYS SPEAK OUT WHEN IN A CLASS WITH A BRAINW..."
      ]
     },
     "metadata": {},
     "output_type": "display_data"
    }
   ],
   "source": [
    "df_sampled_train = read_files_in_directory(sampled_train_path)"
   ]
  },
  {
   "cell_type": "markdown",
   "metadata": {},
   "source": [
    "Let's make sure that the sampled datasets are a subset of the all files "
   ]
  },
  {
   "cell_type": "code",
   "execution_count": 8,
   "metadata": {},
   "outputs": [
    {
     "name": "stdout",
     "output_type": "stream",
     "text": [
      "All test samples are in all_files: True\n",
      "All train samples are in all_files: True\n"
     ]
    }
   ],
   "source": [
    "# Check if the sampled datasets are subsets of the all_files dataset\n",
    "test_in_all = df_sampled_test['file_id'].isin(df_all_files['file_id']).all()\n",
    "train_in_all = df_sampled_train['file_id'].isin(df_all_files['file_id']).all()\n",
    "\n",
    "print(\"All test samples are in all_files:\", test_in_all)\n",
    "print(\"All train samples are in all_files:\", train_in_all)\n"
   ]
  },
  {
   "cell_type": "markdown",
   "metadata": {},
   "source": [
    "To start with, we are not only going to focus on the sampled_train and sampled_test datasets, but on the all_files dataset. The subsets were generated as a way to deal with the fact that the classes are unbalanced. But we are going to try to deal with this problem in a different way, ideally benefiting from the entire dataset."
   ]
  },
  {
   "cell_type": "markdown",
   "metadata": {},
   "source": [
    "### Merging text with metadata "
   ]
  },
  {
   "cell_type": "code",
   "execution_count": 9,
   "metadata": {},
   "outputs": [
    {
     "data": {
      "text/plain": [
       "(10944, 6)"
      ]
     },
     "metadata": {},
     "output_type": "display_data"
    },
    {
     "data": {
      "text/html": [
       "<div>\n",
       "<style scoped>\n",
       "    .dataframe tbody tr th:only-of-type {\n",
       "        vertical-align: middle;\n",
       "    }\n",
       "\n",
       "    .dataframe tbody tr th {\n",
       "        vertical-align: top;\n",
       "    }\n",
       "\n",
       "    .dataframe thead th {\n",
       "        text-align: right;\n",
       "    }\n",
       "</style>\n",
       "<table border=\"1\" class=\"dataframe\">\n",
       "  <thead>\n",
       "    <tr style=\"text-align: right;\">\n",
       "      <th></th>\n",
       "      <th>file_id</th>\n",
       "      <th>user_id</th>\n",
       "      <th>subforum_id</th>\n",
       "      <th>num_contexts</th>\n",
       "      <th>label</th>\n",
       "      <th>text</th>\n",
       "    </tr>\n",
       "  </thead>\n",
       "  <tbody>\n",
       "    <tr>\n",
       "      <th>0</th>\n",
       "      <td>12834217_1</td>\n",
       "      <td>572066</td>\n",
       "      <td>1346</td>\n",
       "      <td>0</td>\n",
       "      <td>noHate</td>\n",
       "      <td>As of March 13th , 2014 , the booklet had been...</td>\n",
       "    </tr>\n",
       "    <tr>\n",
       "      <th>1</th>\n",
       "      <td>12834217_2</td>\n",
       "      <td>572066</td>\n",
       "      <td>1346</td>\n",
       "      <td>0</td>\n",
       "      <td>noHate</td>\n",
       "      <td>In order to help increase the booklets downloa...</td>\n",
       "    </tr>\n",
       "    <tr>\n",
       "      <th>2</th>\n",
       "      <td>12834217_3</td>\n",
       "      <td>572066</td>\n",
       "      <td>1346</td>\n",
       "      <td>0</td>\n",
       "      <td>noHate</td>\n",
       "      <td>( Simply copy and paste the following text int...</td>\n",
       "    </tr>\n",
       "  </tbody>\n",
       "</table>\n",
       "</div>"
      ],
      "text/plain": [
       "      file_id  user_id  subforum_id  num_contexts   label  \\\n",
       "0  12834217_1   572066         1346             0  noHate   \n",
       "1  12834217_2   572066         1346             0  noHate   \n",
       "2  12834217_3   572066         1346             0  noHate   \n",
       "\n",
       "                                                text  \n",
       "0  As of March 13th , 2014 , the booklet had been...  \n",
       "1  In order to help increase the booklets downloa...  \n",
       "2  ( Simply copy and paste the following text int...  "
      ]
     },
     "execution_count": 9,
     "metadata": {},
     "output_type": "execute_result"
    }
   ],
   "source": [
    "df = df_metadata.merge(df_all_files, on='file_id', how='inner')\n",
    "display(df.shape)\n",
    "df.head(3)"
   ]
  },
  {
   "cell_type": "code",
   "execution_count": 10,
   "metadata": {},
   "outputs": [
    {
     "data": {
      "text/plain": [
       "(10944, 8)"
      ]
     },
     "metadata": {},
     "output_type": "display_data"
    },
    {
     "data": {
      "text/html": [
       "<div>\n",
       "<style scoped>\n",
       "    .dataframe tbody tr th:only-of-type {\n",
       "        vertical-align: middle;\n",
       "    }\n",
       "\n",
       "    .dataframe tbody tr th {\n",
       "        vertical-align: top;\n",
       "    }\n",
       "\n",
       "    .dataframe thead th {\n",
       "        text-align: right;\n",
       "    }\n",
       "</style>\n",
       "<table border=\"1\" class=\"dataframe\">\n",
       "  <thead>\n",
       "    <tr style=\"text-align: right;\">\n",
       "      <th></th>\n",
       "      <th>file_id</th>\n",
       "      <th>user_id</th>\n",
       "      <th>subforum_id</th>\n",
       "      <th>num_contexts</th>\n",
       "      <th>label</th>\n",
       "      <th>text</th>\n",
       "      <th>comment_id</th>\n",
       "      <th>sentence_number</th>\n",
       "    </tr>\n",
       "  </thead>\n",
       "  <tbody>\n",
       "    <tr>\n",
       "      <th>0</th>\n",
       "      <td>12834217_1</td>\n",
       "      <td>572066</td>\n",
       "      <td>1346</td>\n",
       "      <td>0</td>\n",
       "      <td>noHate</td>\n",
       "      <td>As of March 13th , 2014 , the booklet had been...</td>\n",
       "      <td>12834217</td>\n",
       "      <td>1</td>\n",
       "    </tr>\n",
       "    <tr>\n",
       "      <th>1</th>\n",
       "      <td>12834217_2</td>\n",
       "      <td>572066</td>\n",
       "      <td>1346</td>\n",
       "      <td>0</td>\n",
       "      <td>noHate</td>\n",
       "      <td>In order to help increase the booklets downloa...</td>\n",
       "      <td>12834217</td>\n",
       "      <td>2</td>\n",
       "    </tr>\n",
       "    <tr>\n",
       "      <th>2</th>\n",
       "      <td>12834217_3</td>\n",
       "      <td>572066</td>\n",
       "      <td>1346</td>\n",
       "      <td>0</td>\n",
       "      <td>noHate</td>\n",
       "      <td>( Simply copy and paste the following text int...</td>\n",
       "      <td>12834217</td>\n",
       "      <td>3</td>\n",
       "    </tr>\n",
       "  </tbody>\n",
       "</table>\n",
       "</div>"
      ],
      "text/plain": [
       "      file_id  user_id  subforum_id  num_contexts   label  \\\n",
       "0  12834217_1   572066         1346             0  noHate   \n",
       "1  12834217_2   572066         1346             0  noHate   \n",
       "2  12834217_3   572066         1346             0  noHate   \n",
       "\n",
       "                                                text comment_id  \\\n",
       "0  As of March 13th , 2014 , the booklet had been...   12834217   \n",
       "1  In order to help increase the booklets downloa...   12834217   \n",
       "2  ( Simply copy and paste the following text int...   12834217   \n",
       "\n",
       "  sentence_number  \n",
       "0               1  \n",
       "1               2  \n",
       "2               3  "
      ]
     },
     "execution_count": 10,
     "metadata": {},
     "output_type": "execute_result"
    }
   ],
   "source": [
    "df[[\"comment_id\", \"sentence_number\"]]= df['file_id'].str.split('_', expand=True)\n",
    "display(df.shape)\n",
    "df.head(3)"
   ]
  },
  {
   "cell_type": "markdown",
   "metadata": {},
   "source": [
    "# Data Overview  "
   ]
  },
  {
   "cell_type": "code",
   "execution_count": 11,
   "metadata": {},
   "outputs": [],
   "source": [
    "# Assign appropiate types according to the data in each column\n",
    "df = df.astype({\n",
    "    'file_id': 'str',\n",
    "    'user_id': 'str',\n",
    "    'subforum_id': 'str',\n",
    "    'num_contexts': 'int',\n",
    "    'label': 'category',\n",
    "    'text': 'str',\n",
    "    'comment_id': 'str',\n",
    "    'sentence_number': 'int'\n",
    "})\n"
   ]
  },
  {
   "cell_type": "code",
   "execution_count": 12,
   "metadata": {},
   "outputs": [
    {
     "data": {
      "text/html": [
       "<div>\n",
       "<style scoped>\n",
       "    .dataframe tbody tr th:only-of-type {\n",
       "        vertical-align: middle;\n",
       "    }\n",
       "\n",
       "    .dataframe tbody tr th {\n",
       "        vertical-align: top;\n",
       "    }\n",
       "\n",
       "    .dataframe thead th {\n",
       "        text-align: right;\n",
       "    }\n",
       "</style>\n",
       "<table border=\"1\" class=\"dataframe\">\n",
       "  <thead>\n",
       "    <tr style=\"text-align: right;\">\n",
       "      <th></th>\n",
       "      <th>file_id</th>\n",
       "      <th>user_id</th>\n",
       "      <th>subforum_id</th>\n",
       "      <th>num_contexts</th>\n",
       "      <th>label</th>\n",
       "      <th>text</th>\n",
       "      <th>comment_id</th>\n",
       "      <th>sentence_number</th>\n",
       "    </tr>\n",
       "  </thead>\n",
       "  <tbody>\n",
       "    <tr>\n",
       "      <th>count</th>\n",
       "      <td>10944</td>\n",
       "      <td>10944</td>\n",
       "      <td>10944</td>\n",
       "      <td>10944.000000</td>\n",
       "      <td>10944</td>\n",
       "      <td>10944</td>\n",
       "      <td>10944</td>\n",
       "      <td>10944.000000</td>\n",
       "    </tr>\n",
       "    <tr>\n",
       "      <th>unique</th>\n",
       "      <td>10944</td>\n",
       "      <td>2792</td>\n",
       "      <td>21</td>\n",
       "      <td>NaN</td>\n",
       "      <td>4</td>\n",
       "      <td>10760</td>\n",
       "      <td>5000</td>\n",
       "      <td>NaN</td>\n",
       "    </tr>\n",
       "    <tr>\n",
       "      <th>top</th>\n",
       "      <td>12834217_1</td>\n",
       "      <td>572043</td>\n",
       "      <td>1362</td>\n",
       "      <td>NaN</td>\n",
       "      <td>noHate</td>\n",
       "      <td>2508</td>\n",
       "      <td>14098769</td>\n",
       "      <td>NaN</td>\n",
       "    </tr>\n",
       "    <tr>\n",
       "      <th>freq</th>\n",
       "      <td>1</td>\n",
       "      <td>248</td>\n",
       "      <td>868</td>\n",
       "      <td>NaN</td>\n",
       "      <td>9507</td>\n",
       "      <td>21</td>\n",
       "      <td>24</td>\n",
       "      <td>NaN</td>\n",
       "    </tr>\n",
       "    <tr>\n",
       "      <th>mean</th>\n",
       "      <td>NaN</td>\n",
       "      <td>NaN</td>\n",
       "      <td>NaN</td>\n",
       "      <td>0.229349</td>\n",
       "      <td>NaN</td>\n",
       "      <td>NaN</td>\n",
       "      <td>NaN</td>\n",
       "      <td>2.187409</td>\n",
       "    </tr>\n",
       "    <tr>\n",
       "      <th>std</th>\n",
       "      <td>NaN</td>\n",
       "      <td>NaN</td>\n",
       "      <td>NaN</td>\n",
       "      <td>1.121689</td>\n",
       "      <td>NaN</td>\n",
       "      <td>NaN</td>\n",
       "      <td>NaN</td>\n",
       "      <td>1.986812</td>\n",
       "    </tr>\n",
       "    <tr>\n",
       "      <th>min</th>\n",
       "      <td>NaN</td>\n",
       "      <td>NaN</td>\n",
       "      <td>NaN</td>\n",
       "      <td>0.000000</td>\n",
       "      <td>NaN</td>\n",
       "      <td>NaN</td>\n",
       "      <td>NaN</td>\n",
       "      <td>1.000000</td>\n",
       "    </tr>\n",
       "    <tr>\n",
       "      <th>25%</th>\n",
       "      <td>NaN</td>\n",
       "      <td>NaN</td>\n",
       "      <td>NaN</td>\n",
       "      <td>0.000000</td>\n",
       "      <td>NaN</td>\n",
       "      <td>NaN</td>\n",
       "      <td>NaN</td>\n",
       "      <td>1.000000</td>\n",
       "    </tr>\n",
       "    <tr>\n",
       "      <th>50%</th>\n",
       "      <td>NaN</td>\n",
       "      <td>NaN</td>\n",
       "      <td>NaN</td>\n",
       "      <td>0.000000</td>\n",
       "      <td>NaN</td>\n",
       "      <td>NaN</td>\n",
       "      <td>NaN</td>\n",
       "      <td>2.000000</td>\n",
       "    </tr>\n",
       "    <tr>\n",
       "      <th>75%</th>\n",
       "      <td>NaN</td>\n",
       "      <td>NaN</td>\n",
       "      <td>NaN</td>\n",
       "      <td>0.000000</td>\n",
       "      <td>NaN</td>\n",
       "      <td>NaN</td>\n",
       "      <td>NaN</td>\n",
       "      <td>2.000000</td>\n",
       "    </tr>\n",
       "    <tr>\n",
       "      <th>90%</th>\n",
       "      <td>NaN</td>\n",
       "      <td>NaN</td>\n",
       "      <td>NaN</td>\n",
       "      <td>0.000000</td>\n",
       "      <td>NaN</td>\n",
       "      <td>NaN</td>\n",
       "      <td>NaN</td>\n",
       "      <td>4.000000</td>\n",
       "    </tr>\n",
       "    <tr>\n",
       "      <th>95%</th>\n",
       "      <td>NaN</td>\n",
       "      <td>NaN</td>\n",
       "      <td>NaN</td>\n",
       "      <td>1.000000</td>\n",
       "      <td>NaN</td>\n",
       "      <td>NaN</td>\n",
       "      <td>NaN</td>\n",
       "      <td>6.000000</td>\n",
       "    </tr>\n",
       "    <tr>\n",
       "      <th>99%</th>\n",
       "      <td>NaN</td>\n",
       "      <td>NaN</td>\n",
       "      <td>NaN</td>\n",
       "      <td>5.000000</td>\n",
       "      <td>NaN</td>\n",
       "      <td>NaN</td>\n",
       "      <td>NaN</td>\n",
       "      <td>11.000000</td>\n",
       "    </tr>\n",
       "    <tr>\n",
       "      <th>max</th>\n",
       "      <td>NaN</td>\n",
       "      <td>NaN</td>\n",
       "      <td>NaN</td>\n",
       "      <td>32.000000</td>\n",
       "      <td>NaN</td>\n",
       "      <td>NaN</td>\n",
       "      <td>NaN</td>\n",
       "      <td>24.000000</td>\n",
       "    </tr>\n",
       "  </tbody>\n",
       "</table>\n",
       "</div>"
      ],
      "text/plain": [
       "           file_id user_id subforum_id  num_contexts   label   text  \\\n",
       "count        10944   10944       10944  10944.000000   10944  10944   \n",
       "unique       10944    2792          21           NaN       4  10760   \n",
       "top     12834217_1  572043        1362           NaN  noHate   2508   \n",
       "freq             1     248         868           NaN    9507     21   \n",
       "mean           NaN     NaN         NaN      0.229349     NaN    NaN   \n",
       "std            NaN     NaN         NaN      1.121689     NaN    NaN   \n",
       "min            NaN     NaN         NaN      0.000000     NaN    NaN   \n",
       "25%            NaN     NaN         NaN      0.000000     NaN    NaN   \n",
       "50%            NaN     NaN         NaN      0.000000     NaN    NaN   \n",
       "75%            NaN     NaN         NaN      0.000000     NaN    NaN   \n",
       "90%            NaN     NaN         NaN      0.000000     NaN    NaN   \n",
       "95%            NaN     NaN         NaN      1.000000     NaN    NaN   \n",
       "99%            NaN     NaN         NaN      5.000000     NaN    NaN   \n",
       "max            NaN     NaN         NaN     32.000000     NaN    NaN   \n",
       "\n",
       "       comment_id  sentence_number  \n",
       "count       10944     10944.000000  \n",
       "unique       5000              NaN  \n",
       "top      14098769              NaN  \n",
       "freq           24              NaN  \n",
       "mean          NaN         2.187409  \n",
       "std           NaN         1.986812  \n",
       "min           NaN         1.000000  \n",
       "25%           NaN         1.000000  \n",
       "50%           NaN         2.000000  \n",
       "75%           NaN         2.000000  \n",
       "90%           NaN         4.000000  \n",
       "95%           NaN         6.000000  \n",
       "99%           NaN        11.000000  \n",
       "max           NaN        24.000000  "
      ]
     },
     "execution_count": 12,
     "metadata": {},
     "output_type": "execute_result"
    }
   ],
   "source": [
    "df.describe(include=\"all\", percentiles=[.25, .50, .75, .90, .95, .99])\n"
   ]
  },
  {
   "cell_type": "markdown",
   "metadata": {},
   "source": [
    "From the table above, we can observe the following:\n",
    "\n",
    "  - Each `file_id` is unique.  \n",
    "\n",
    "  - There are 2,792 distinct `user_id`.  \n",
    "\n",
    "  - The dataset encompasses 21 subforums. The majority of entries have a `num_contexts` value of zero, while approximately 5% of the data points have more than one context, with the maximum reaching 32.  \n",
    "\n",
    "  - There are four distinct `label` classes.\n",
    "\n",
    "  - Some text entries are duplicated, which could potentially lead to data leakage. We will investigate whether these duplicated `text` entries correspond to the same `label`.  \n",
    "\n",
    "  - There are 5000 `comment_id` in the dataset. With an average of slightly over 2 sentences per comments and a max of 24 sentences.\n",
    "  \n",
    "  - There are no missing values in the dataset.\n",
    "\n",
    "\n",
    "Now we are going to focus on some of these details to better understand the data.\n"
   ]
  },
  {
   "cell_type": "markdown",
   "metadata": {},
   "source": [
    "### Label Distribution"
   ]
  },
  {
   "cell_type": "markdown",
   "metadata": {},
   "source": [
    "Let's start looking at the distribution for the different label classes."
   ]
  },
  {
   "cell_type": "code",
   "execution_count": 13,
   "metadata": {},
   "outputs": [
    {
     "data": {
      "text/plain": [
       "label\n",
       "noHate      0.868695\n",
       "hate        0.109284\n",
       "relation    0.015351\n",
       "idk/skip    0.006670\n",
       "Name: proportion, dtype: float64"
      ]
     },
     "execution_count": 13,
     "metadata": {},
     "output_type": "execute_result"
    }
   ],
   "source": [
    "df['label'].value_counts(normalize=True)"
   ]
  },
  {
   "cell_type": "code",
   "execution_count": 14,
   "metadata": {},
   "outputs": [
    {
     "name": "stdout",
     "output_type": "stream",
     "text": [
      "Examples for label: noHate\n",
      "\n",
      "\n"
     ]
    },
    {
     "data": {
      "text/plain": [
       "['As of March 13th , 2014 , the booklet had been downloaded over 18,300 times and counting .',\n",
       " 'In order to help increase the booklets downloads , it would be great if all Stormfronters who had YouTube accounts , could display the following text in the description boxes of their uploaded YouTube videos .',\n",
       " '( Simply copy and paste the following text into your YouTube videos description boxes. )',\n",
       " \"Click on the `` DOWNLOAD ( 7.42 MB ) '' green banner link .\",\n",
       " 'Booklet updated on Feb. 14th , 2014 .',\n",
       " '( Now with over 18,300 Downloads. )',\n",
       " \"PDF file : http://www.mediafire.com/download/7p3p3goadvvqvsf/WNDebateBooklet_2-14-14.pdfMSWordfile:http://www.mediafire.com/download/psezkkk4d6a3wt1/WNDebateBooklet _ 2-14-14.docx Watch the 10 hour video version of `` The Zionist Attack on Western Civilization '' @ http://trutube.tv/video/14247/The-Zionist-Attack-on-Western-Civilization-Pages-1-33-Part-1-of-4-Banned-from-YouTubeNotepadPromotionalYouTubeComment:http://www.mediafire.com/download/96fg6ft02lyfruz/Booklet _ White _ YT _ Comment _ ( Hyperlinked ) .txt http://www.mediafire.com/download/zcn3wozjbwnezms/Booklet-White-YT-Comment- ( Hyperlinked-Back-Up % 5D.txt http://www.mediafire.com/download/9uyudq1yuxu1dur/Booklet+Comment+%28Firefox%29.txt2minutepromotionalBOOKLETvideo@http://www.youtube.com/watch ? v = _ 8hg254ALpM Are you interested in helping spread the booklet download link across the world ?\",\n",
       " 'Then why not simply copy this text ( & links ) and paste it into the description box of your YouTube videos ?',\n",
       " \"Thank you in advance. : ) Download the youtube `` description box '' info text file below @ http://www.mediafire.com/download/dqhn1czprr17o21/Booklet-Description-Box _ Info.txt\",\n",
       " 'Thank you for the info. i will deffinetly look into them .']"
      ]
     },
     "metadata": {},
     "output_type": "display_data"
    },
    {
     "name": "stdout",
     "output_type": "stream",
     "text": [
      "\n",
      "\n",
      "\n",
      "Examples for label: hate\n",
      "\n",
      "\n"
     ]
    },
    {
     "data": {
      "text/plain": [
       "['Click below for a FREE download of a colorfully illustrated 132 page e-book on the Zionist-engineered INTENTIONAL destruction of Western civilization .',\n",
       " \"She may or may not be a Jew but she 's certainly stupid , she seems to think the Blacks wo n't kill her alongside every other White they can get their dirty hands on , what a muppet !\",\n",
       " \"I 've always considered teaching as one of the professions I would like to get into , but not in a neighbourhood like that ... never. kids like that disgust me .\",\n",
       " 'And the sad thing is the white students at those schools will act like that too .',\n",
       " \"Their gods often had pale skin and blue eyes but I suppose literacy is n't valued highly by their cultural intelligencia .\",\n",
       " 'Greece need a man like Adolf Hitler and now is the perfect time to start a national political movement to free Your country from the zionist bankers',\n",
       " 'He is a pathetic little chimp .',\n",
       " 'Try El Paso Texas Soo much mudd invasion that the river is the same color as those playing/crossing in it .. year round !',\n",
       " \"Here is a video of the event that is worth watching just to see a beautiful White lady screaming `` scum , scum , scum , f * * * ing scum !!! '' at the muslim filth .\",\n",
       " 'I suppose the concept of a male cow and a female cow producing MORE cows , and the repeating process is too much for them to understand .']"
      ]
     },
     "metadata": {},
     "output_type": "display_data"
    },
    {
     "name": "stdout",
     "output_type": "stream",
     "text": [
      "\n",
      "\n",
      "\n",
      "Examples for label: idk/skip\n",
      "\n",
      "\n"
     ]
    },
    {
     "data": {
      "text/plain": [
       "['Glædelig jul !',\n",
       " \"Det er forresten en ting til Órkneyjar vil si deg , `` Tack så mycket . ''\",\n",
       " 'Jag har inte själv varit med någon gång men jag har stor respekt för de som deltar .',\n",
       " 'Suomalainen totta kai !',\n",
       " 'ApÃ © ro gÃ © ant : trois jeunes soupÃ § onnÃ © s de viol https : //www.stormfront.org/forum/t809905/',\n",
       " 'BaoFeng 左眼技术 采用左眼专利技术 利用cpu和gpu有效提升画质 在线高清 shd专利技术 , 1m带宽 流畅播放720p高清视频 3d技术',\n",
       " 'Sørensen , 19 år , er født 8. april 1982 i Kolding .',\n",
       " 'Har taget en HH-eksamen på handelsskolen i Nyborg .',\n",
       " 'Medlem af DFUìs bestyrelse .',\n",
       " 'I sin fritid går Karina Sørensen på jagt med sin far , dyrker styrketræning eller nyder tilværelsen med sin kæreste .']"
      ]
     },
     "metadata": {},
     "output_type": "display_data"
    },
    {
     "name": "stdout",
     "output_type": "stream",
     "text": [
      "\n",
      "\n",
      "\n",
      "Examples for label: relation\n",
      "\n",
      "\n"
     ]
    },
    {
     "data": {
      "text/plain": [
       "['You are telling me that 78 % of kids under 6 in Frankfurt are all foreigners ?',\n",
       " 'Jeeze its worst than the UK .',\n",
       " \"So far today I 've come across the words scum , slut and bitch .\",\n",
       " 'All too describe my sisters .',\n",
       " 'The Indian teenager was showing the Caucasian American girl how to dissolve cow dung in water , and then use a broom to spread the filth all over the floor of their house .',\n",
       " \"Certain cultural practices just tell you volumes about a people , do n't they ?\",\n",
       " 'Here is my old school picture i think it was in 1994 .',\n",
       " 'I hope such classes will be the future of all Russia',\n",
       " 'No doubt the bulk of her votes came from the ever growing chinese immigrant community around Belfast .',\n",
       " 'Scum .']"
      ]
     },
     "metadata": {},
     "output_type": "display_data"
    },
    {
     "name": "stdout",
     "output_type": "stream",
     "text": [
      "\n",
      "\n",
      "\n"
     ]
    }
   ],
   "source": [
    "# Let's look at some examples for each class \n",
    "for label in df['label'].unique():\n",
    "    print(f\"Examples for label: {label}\")\n",
    "    print(\"\\n\")\n",
    "    display(df.loc[df['label'] == label, 'text'].head(10).tolist())\n",
    "    print(\"\\n\\n\")\n"
   ]
  },
  {
   "cell_type": "markdown",
   "metadata": {},
   "source": [
    "After a quick look at the different labels, we can observe the following:\n",
    "\n",
    "- The label `idk/skip` represent a small fraction of the values (around 0.7%). As described in the paper they are a mix of weird characters and text in non-English languages. In real life scenarios different languages or weird characters can appear, and in the model should be able to assign them to the correct class (hate versus no hate). Ideally I would like to have the appropiate label for them (we could use machine translation or a zero/ few-shot learning approach to label them). \n",
    "\n",
    "Given the scope of this project and the small fraction of data it represents, we are going to drop the datapoints with the `idk/skip` label. \n",
    "\n",
    " \n",
    "\n",
    "- The label `relation` is also a small fraction of the values (around 1.5%). According to the paper, _\"the `relation` label is given separately to all the sentences that need each other to be understood as hate speech. That is, consecutive sentences with this label convey hate speech but depend on each other to be correctly interpreted.\"_ \n",
    "\n",
    "In order to be able to use the datapoints with the label `relation`, we are going to aggregate the information into a comment level. \n",
    "\n"
   ]
  },
  {
   "cell_type": "code",
   "execution_count": 15,
   "metadata": {},
   "outputs": [
    {
     "data": {
      "text/plain": [
       "(10871, 8)"
      ]
     },
     "metadata": {},
     "output_type": "display_data"
    }
   ],
   "source": [
    "# Dropping Skip\n",
    "df = df[df[\"label\"].isin([\"hate\", \"noHate\", \"relation\"])].reset_index(drop=True)\n",
    "display(df.shape)\n"
   ]
  },
  {
   "cell_type": "code",
   "execution_count": 16,
   "metadata": {},
   "outputs": [
    {
     "data": {
      "text/plain": [
       "(4998, 6)"
      ]
     },
     "metadata": {},
     "output_type": "display_data"
    },
    {
     "data": {
      "text/html": [
       "<div>\n",
       "<style scoped>\n",
       "    .dataframe tbody tr th:only-of-type {\n",
       "        vertical-align: middle;\n",
       "    }\n",
       "\n",
       "    .dataframe tbody tr th {\n",
       "        vertical-align: top;\n",
       "    }\n",
       "\n",
       "    .dataframe thead th {\n",
       "        text-align: right;\n",
       "    }\n",
       "</style>\n",
       "<table border=\"1\" class=\"dataframe\">\n",
       "  <thead>\n",
       "    <tr style=\"text-align: right;\">\n",
       "      <th></th>\n",
       "      <th>comment_id</th>\n",
       "      <th>user_id</th>\n",
       "      <th>subforum_id</th>\n",
       "      <th>text</th>\n",
       "      <th>label</th>\n",
       "      <th>num_contexts</th>\n",
       "    </tr>\n",
       "  </thead>\n",
       "  <tbody>\n",
       "    <tr>\n",
       "      <th>0</th>\n",
       "      <td>12834217</td>\n",
       "      <td>572066</td>\n",
       "      <td>1346</td>\n",
       "      <td>As of March 13th , 2014 , the booklet had been...</td>\n",
       "      <td>True</td>\n",
       "      <td>0</td>\n",
       "    </tr>\n",
       "    <tr>\n",
       "      <th>1</th>\n",
       "      <td>12834278</td>\n",
       "      <td>572066</td>\n",
       "      <td>1346</td>\n",
       "      <td>As of December 31st , 2013 at about 8 AM PST ,...</td>\n",
       "      <td>True</td>\n",
       "      <td>0</td>\n",
       "    </tr>\n",
       "    <tr>\n",
       "      <th>2</th>\n",
       "      <td>12834493</td>\n",
       "      <td>572058</td>\n",
       "      <td>1396</td>\n",
       "      <td>She may or may not be a Jew but she 's certain...</td>\n",
       "      <td>True</td>\n",
       "      <td>0</td>\n",
       "    </tr>\n",
       "  </tbody>\n",
       "</table>\n",
       "</div>"
      ],
      "text/plain": [
       "  comment_id user_id subforum_id  \\\n",
       "0   12834217  572066        1346   \n",
       "1   12834278  572066        1346   \n",
       "2   12834493  572058        1396   \n",
       "\n",
       "                                                text  label  num_contexts  \n",
       "0  As of March 13th , 2014 , the booklet had been...   True             0  \n",
       "1  As of December 31st , 2013 at about 8 AM PST ,...   True             0  \n",
       "2  She may or may not be a Jew but she 's certain...   True             0  "
      ]
     },
     "execution_count": 16,
     "metadata": {},
     "output_type": "execute_result"
    }
   ],
   "source": [
    "# Aggregating the data at the comment level\n",
    "df_comment = df.groupby(['comment_id', 'user_id', 'subforum_id']).agg({\n",
    "    'text': '\\n'.join,\n",
    "    'label': lambda x: not all(x == 'noHate'),\n",
    "    'num_contexts': 'max'\n",
    "}).reset_index()\n",
    "display(df_comment.shape)\n",
    "df_comment.head(3)\n"
   ]
  },
  {
   "cell_type": "markdown",
   "metadata": {},
   "source": [
    "When we look at the problem at a comment level, the classes are a bit more balanced."
   ]
  },
  {
   "cell_type": "code",
   "execution_count": 17,
   "metadata": {},
   "outputs": [
    {
     "data": {
      "text/plain": [
       "label\n",
       "noHate      0.874529\n",
       "hate        0.110017\n",
       "relation    0.015454\n",
       "idk/skip    0.000000\n",
       "Name: proportion, dtype: float64"
      ]
     },
     "execution_count": 17,
     "metadata": {},
     "output_type": "execute_result"
    }
   ],
   "source": [
    "# Label distribution at Text level \n",
    "df[\"label\"].value_counts(normalize=True)"
   ]
  },
  {
   "cell_type": "code",
   "execution_count": 18,
   "metadata": {},
   "outputs": [
    {
     "data": {
      "text/plain": [
       "label\n",
       "False    0.785314\n",
       "True     0.214686\n",
       "Name: proportion, dtype: float64"
      ]
     },
     "execution_count": 18,
     "metadata": {},
     "output_type": "execute_result"
    }
   ],
   "source": [
    "# Label distribution at Comment level \n",
    "df_comment[\"label\"].value_counts(normalize=True)"
   ]
  },
  {
   "cell_type": "markdown",
   "metadata": {},
   "source": [
    "Now that we have a boolen label, we can use this profiler to get a better understanding of the data."
   ]
  },
  {
   "cell_type": "code",
   "execution_count": 19,
   "metadata": {},
   "outputs": [
    {
     "data": {
      "application/vnd.jupyter.widget-view+json": {
       "model_id": "1282cef71e954575bc1910ea140eb1f5",
       "version_major": 2,
       "version_minor": 0
      },
      "text/plain": [
       "                                             |          | [  0%]   00:00 -> (? left)"
      ]
     },
     "metadata": {},
     "output_type": "display_data"
    },
    {
     "name": "stdout",
     "output_type": "stream",
     "text": [
      "Report profile_report.html was generated! NOTEBOOK/COLAB USERS: the web browser MAY not pop up, regardless, the report IS saved in your notebook/colab files.\n"
     ]
    }
   ],
   "source": [
    "report = sv.analyze(df_comment, target_feat='label')\n",
    "report.show_html(\"profile_report.html\") # saving this report as an HTML file\n"
   ]
  },
  {
   "cell_type": "markdown",
   "metadata": {},
   "source": [
    "Let's now look at the lenght of the comments"
   ]
  },
  {
   "cell_type": "code",
   "execution_count": 20,
   "metadata": {},
   "outputs": [
    {
     "data": {
      "text/plain": [
       "<Axes: title={'center': 'Comment Length Distribution (#\\xa0characters)'}, ylabel='Frequency'>"
      ]
     },
     "execution_count": 20,
     "metadata": {},
     "output_type": "execute_result"
    },
    {
     "data": {
      "image/png": "[encoded data removed]",
      "text/plain": [
       "<Figure size 640x480 with 1 Axes>"
      ]
     },
     "metadata": {},
     "output_type": "display_data"
    }
   ],
   "source": [
    "df_comment['text'].map(len).plot(kind='hist', bins=100, title='Comment Length Distribution (# characters)')"
   ]
  },
  {
   "cell_type": "markdown",
   "metadata": {},
   "source": [
    "Most of the comments have less than 500 characters. So the comment length should not be a problem for the king of model we are planning to use. )"
   ]
  },
  {
   "cell_type": "markdown",
   "metadata": {},
   "source": [
    "### SubForum "
   ]
  },
  {
   "cell_type": "markdown",
   "metadata": {},
   "source": [
    "Let's now look at the Subforum to understand if there is some signal in this variable that the model can use to predict hate speech."
   ]
  },
  {
   "cell_type": "code",
   "execution_count": 21,
   "metadata": {},
   "outputs": [
    {
     "data": {
      "text/html": [
       "<div>\n",
       "<style scoped>\n",
       "    .dataframe tbody tr th:only-of-type {\n",
       "        vertical-align: middle;\n",
       "    }\n",
       "\n",
       "    .dataframe tbody tr th {\n",
       "        vertical-align: top;\n",
       "    }\n",
       "\n",
       "    .dataframe thead th {\n",
       "        text-align: right;\n",
       "    }\n",
       "</style>\n",
       "<table border=\"1\" class=\"dataframe\">\n",
       "  <thead>\n",
       "    <tr style=\"text-align: right;\">\n",
       "      <th></th>\n",
       "      <th>mean</th>\n",
       "      <th>count</th>\n",
       "    </tr>\n",
       "    <tr>\n",
       "      <th>subforum_id</th>\n",
       "      <th></th>\n",
       "      <th></th>\n",
       "    </tr>\n",
       "  </thead>\n",
       "  <tbody>\n",
       "    <tr>\n",
       "      <th>1371</th>\n",
       "      <td>0.352159</td>\n",
       "      <td>301</td>\n",
       "    </tr>\n",
       "    <tr>\n",
       "      <th>1345</th>\n",
       "      <td>0.344538</td>\n",
       "      <td>357</td>\n",
       "    </tr>\n",
       "    <tr>\n",
       "      <th>1346</th>\n",
       "      <td>0.318644</td>\n",
       "      <td>295</td>\n",
       "    </tr>\n",
       "    <tr>\n",
       "      <th>1391</th>\n",
       "      <td>0.287709</td>\n",
       "      <td>358</td>\n",
       "    </tr>\n",
       "    <tr>\n",
       "      <th>1388</th>\n",
       "      <td>0.269076</td>\n",
       "      <td>249</td>\n",
       "    </tr>\n",
       "    <tr>\n",
       "      <th>1387</th>\n",
       "      <td>0.243590</td>\n",
       "      <td>312</td>\n",
       "    </tr>\n",
       "    <tr>\n",
       "      <th>1347</th>\n",
       "      <td>0.242152</td>\n",
       "      <td>223</td>\n",
       "    </tr>\n",
       "    <tr>\n",
       "      <th>1396</th>\n",
       "      <td>0.232877</td>\n",
       "      <td>73</td>\n",
       "    </tr>\n",
       "    <tr>\n",
       "      <th>1354</th>\n",
       "      <td>0.224044</td>\n",
       "      <td>183</td>\n",
       "    </tr>\n",
       "    <tr>\n",
       "      <th>1395</th>\n",
       "      <td>0.213793</td>\n",
       "      <td>145</td>\n",
       "    </tr>\n",
       "    <tr>\n",
       "      <th>1383</th>\n",
       "      <td>0.187817</td>\n",
       "      <td>197</td>\n",
       "    </tr>\n",
       "    <tr>\n",
       "      <th>1397</th>\n",
       "      <td>0.185185</td>\n",
       "      <td>27</td>\n",
       "    </tr>\n",
       "    <tr>\n",
       "      <th>1393</th>\n",
       "      <td>0.184834</td>\n",
       "      <td>211</td>\n",
       "    </tr>\n",
       "    <tr>\n",
       "      <th>1363</th>\n",
       "      <td>0.175978</td>\n",
       "      <td>358</td>\n",
       "    </tr>\n",
       "    <tr>\n",
       "      <th>1375</th>\n",
       "      <td>0.169082</td>\n",
       "      <td>207</td>\n",
       "    </tr>\n",
       "    <tr>\n",
       "      <th>1362</th>\n",
       "      <td>0.161560</td>\n",
       "      <td>359</td>\n",
       "    </tr>\n",
       "    <tr>\n",
       "      <th>1348</th>\n",
       "      <td>0.148148</td>\n",
       "      <td>243</td>\n",
       "    </tr>\n",
       "    <tr>\n",
       "      <th>1359</th>\n",
       "      <td>0.139286</td>\n",
       "      <td>280</td>\n",
       "    </tr>\n",
       "    <tr>\n",
       "      <th>1380</th>\n",
       "      <td>0.105263</td>\n",
       "      <td>247</td>\n",
       "    </tr>\n",
       "    <tr>\n",
       "      <th>1381</th>\n",
       "      <td>0.063014</td>\n",
       "      <td>365</td>\n",
       "    </tr>\n",
       "    <tr>\n",
       "      <th>1394</th>\n",
       "      <td>0.000000</td>\n",
       "      <td>8</td>\n",
       "    </tr>\n",
       "  </tbody>\n",
       "</table>\n",
       "</div>"
      ],
      "text/plain": [
       "                 mean  count\n",
       "subforum_id                 \n",
       "1371         0.352159    301\n",
       "1345         0.344538    357\n",
       "1346         0.318644    295\n",
       "1391         0.287709    358\n",
       "1388         0.269076    249\n",
       "1387         0.243590    312\n",
       "1347         0.242152    223\n",
       "1396         0.232877     73\n",
       "1354         0.224044    183\n",
       "1395         0.213793    145\n",
       "1383         0.187817    197\n",
       "1397         0.185185     27\n",
       "1393         0.184834    211\n",
       "1363         0.175978    358\n",
       "1375         0.169082    207\n",
       "1362         0.161560    359\n",
       "1348         0.148148    243\n",
       "1359         0.139286    280\n",
       "1380         0.105263    247\n",
       "1381         0.063014    365\n",
       "1394         0.000000      8"
      ]
     },
     "execution_count": 21,
     "metadata": {},
     "output_type": "execute_result"
    }
   ],
   "source": [
    "df_comment.groupby(['subforum_id'])['label'].agg(['mean', 'count']).sort_values(\"mean\", ascending=False)\n"
   ]
  },
  {
   "cell_type": "code",
   "execution_count": 22,
   "metadata": {},
   "outputs": [
    {
     "data": {
      "image/png": "[encoded data removed]",
      "text/plain": [
       "<Figure size 1200x600 with 1 Axes>"
      ]
     },
     "metadata": {},
     "output_type": "display_data"
    }
   ],
   "source": [
    "# Analyzing the relationship between 'subforum_id' and 'label' using a stacked bar chart for clearer comparison\n",
    "subforum_label_counts = df_comment.groupby(['subforum_id', 'label']).size().unstack(fill_value=0)\n",
    "subforum_label_counts.plot(kind='bar', stacked=True, figsize=(12, 6))\n",
    "plt.title('Relationship between Subforum ID and Label')\n",
    "plt.xlabel('Subforum ID')\n",
    "plt.ylabel('Count')\n",
    "plt.legend(title='Label')\n",
    "plt.xticks(rotation=45)\n",
    "plt.tight_layout()\n",
    "plt.show()\n"
   ]
  },
  {
   "cell_type": "markdown",
   "metadata": {},
   "source": [
    "As stated in the paper, it appears that the probability distribution of hate speech varies significantly across different subforums. Since some of them are more related to topics where hate speech is more lilely to appear. Therefore this feature is a potential candidate to be used as a feauture for the model.\n",
    "\n",
    "Ultimately, the decision to include subforum as a model feature should be discussed with stakeholders, especially considering the model's intended application. In our case, as we are building a generic hate speech detector, we are not going to be able to leverage this information.\n"
   ]
  },
  {
   "cell_type": "markdown",
   "metadata": {},
   "source": [
    "### Users "
   ]
  },
  {
   "cell_type": "markdown",
   "metadata": {},
   "source": [
    "Let's now have a look at the `user_id` variable "
   ]
  },
  {
   "cell_type": "code",
   "execution_count": 23,
   "metadata": {},
   "outputs": [
    {
     "data": {
      "text/plain": [
       "2791"
      ]
     },
     "execution_count": 23,
     "metadata": {},
     "output_type": "execute_result"
    }
   ],
   "source": [
    "df_comment['user_id'].nunique()"
   ]
  },
  {
   "cell_type": "code",
   "execution_count": 24,
   "metadata": {},
   "outputs": [
    {
     "data": {
      "text/plain": [
       "<Axes: title={'center': 'User Comment Count Distribution'}, ylabel='Frequency'>"
      ]
     },
     "execution_count": 24,
     "metadata": {},
     "output_type": "execute_result"
    },
    {
     "data": {
      "image/png": "[encoded data removed]",
      "text/plain": [
       "<Figure size 640x480 with 1 Axes>"
      ]
     },
     "metadata": {},
     "output_type": "display_data"
    }
   ],
   "source": [
    "df_comment['user_id'].value_counts().plot(kind='hist', bins=100, title='User Comment Count Distribution')\n"
   ]
  },
  {
   "cell_type": "code",
   "execution_count": 25,
   "metadata": {},
   "outputs": [
    {
     "data": {
      "text/html": [
       "<div>\n",
       "<style scoped>\n",
       "    .dataframe tbody tr th:only-of-type {\n",
       "        vertical-align: middle;\n",
       "    }\n",
       "\n",
       "    .dataframe tbody tr th {\n",
       "        vertical-align: top;\n",
       "    }\n",
       "\n",
       "    .dataframe thead th {\n",
       "        text-align: right;\n",
       "    }\n",
       "</style>\n",
       "<table border=\"1\" class=\"dataframe\">\n",
       "  <thead>\n",
       "    <tr style=\"text-align: right;\">\n",
       "      <th></th>\n",
       "      <th>mean</th>\n",
       "      <th>count</th>\n",
       "    </tr>\n",
       "    <tr>\n",
       "      <th>user_id</th>\n",
       "      <th></th>\n",
       "      <th></th>\n",
       "    </tr>\n",
       "  </thead>\n",
       "  <tbody>\n",
       "    <tr>\n",
       "      <th>572043</th>\n",
       "      <td>0.187500</td>\n",
       "      <td>112</td>\n",
       "    </tr>\n",
       "    <tr>\n",
       "      <th>576945</th>\n",
       "      <td>0.058824</td>\n",
       "      <td>34</td>\n",
       "    </tr>\n",
       "    <tr>\n",
       "      <th>572266</th>\n",
       "      <td>0.242424</td>\n",
       "      <td>33</td>\n",
       "    </tr>\n",
       "    <tr>\n",
       "      <th>575695</th>\n",
       "      <td>0.133333</td>\n",
       "      <td>30</td>\n",
       "    </tr>\n",
       "    <tr>\n",
       "      <th>572095</th>\n",
       "      <td>0.000000</td>\n",
       "      <td>28</td>\n",
       "    </tr>\n",
       "    <tr>\n",
       "      <th>574600</th>\n",
       "      <td>0.000000</td>\n",
       "      <td>17</td>\n",
       "    </tr>\n",
       "    <tr>\n",
       "      <th>579630</th>\n",
       "      <td>0.187500</td>\n",
       "      <td>16</td>\n",
       "    </tr>\n",
       "    <tr>\n",
       "      <th>577743</th>\n",
       "      <td>0.000000</td>\n",
       "      <td>16</td>\n",
       "    </tr>\n",
       "    <tr>\n",
       "      <th>577166</th>\n",
       "      <td>0.000000</td>\n",
       "      <td>15</td>\n",
       "    </tr>\n",
       "    <tr>\n",
       "      <th>572210</th>\n",
       "      <td>0.000000</td>\n",
       "      <td>14</td>\n",
       "    </tr>\n",
       "  </tbody>\n",
       "</table>\n",
       "</div>"
      ],
      "text/plain": [
       "             mean  count\n",
       "user_id                 \n",
       "572043   0.187500    112\n",
       "576945   0.058824     34\n",
       "572266   0.242424     33\n",
       "575695   0.133333     30\n",
       "572095   0.000000     28\n",
       "574600   0.000000     17\n",
       "579630   0.187500     16\n",
       "577743   0.000000     16\n",
       "577166   0.000000     15\n",
       "572210   0.000000     14"
      ]
     },
     "execution_count": 25,
     "metadata": {},
     "output_type": "execute_result"
    }
   ],
   "source": [
    "df_comment.groupby(['user_id'])['label'].agg(['mean', 'count']).sort_values(\"count\", ascending=False).head(10)\n"
   ]
  },
  {
   "cell_type": "markdown",
   "metadata": {},
   "source": [
    "Given the large number of users and the relatively low message volume per user, we will not utilize this feature in our model. \n",
    "However, again depending on the purpose there may be scenarios where incorporating it could be beneficial.\n",
    "\n"
   ]
  },
  {
   "cell_type": "markdown",
   "metadata": {},
   "source": [
    "### num_contexts"
   ]
  },
  {
   "cell_type": "code",
   "execution_count": 26,
   "metadata": {},
   "outputs": [
    {
     "data": {
      "text/plain": [
       "<Axes: xlabel='num_contexts'>"
      ]
     },
     "execution_count": 26,
     "metadata": {},
     "output_type": "execute_result"
    },
    {
     "data": {
      "image/png": "[encoded data removed]",
      "text/plain": [
       "<Figure size 640x480 with 1 Axes>"
      ]
     },
     "metadata": {},
     "output_type": "display_data"
    }
   ],
   "source": [
    "df_comment['num_contexts'].value_counts().sort_index().plot(kind='bar')"
   ]
  },
  {
   "cell_type": "markdown",
   "metadata": {},
   "source": [
    "Most of the comments do not require further context.\n",
    "\n",
    "Unfortunately, there is no much we can do to improve this. We can expect that this number reduces a bit since we are no longer only looking at text level  but at comment one. \n",
    "\n",
    "Also, since we are going to use some pre-training embeddings, we can expect that somehow this context can be included in the world-model that generated the embeddings.\n"
   ]
  },
  {
   "cell_type": "markdown",
   "metadata": {},
   "source": [
    "# Dealing with Unbalanced Classes "
   ]
  },
  {
   "cell_type": "code",
   "execution_count": 27,
   "metadata": {},
   "outputs": [
    {
     "data": {
      "text/plain": [
       "<Axes: xlabel='label'>"
      ]
     },
     "execution_count": 27,
     "metadata": {},
     "output_type": "execute_result"
    },
    {
     "data": {
      "image/png": "[encoded data removed]",
      "text/plain": [
       "<Figure size 640x480 with 1 Axes>"
      ]
     },
     "metadata": {},
     "output_type": "display_data"
    }
   ],
   "source": [
    "df_comment['label'].value_counts().plot(kind='bar')"
   ]
  },
  {
   "cell_type": "markdown",
   "metadata": {},
   "source": [
    "There are a bunch of techniques that we could use to deal with the unbalanced classes. Here I list a few:  \n",
    " - Resampling Techniques: Different methods like Oversampling, Undersampling  \n",
    " - Modify Class Weights: Penalize misclassifications of the minority class or incorporate the cost of misclassification into the training process.  \n",
    " - Generate Synthetic Samples: Use LLMs to generate synthetic samples given some examples, or more traditional synthetic oversampling techniques such as Synthetic SMOTE (after converting text to some sort of numeric representation)\n",
    "\n",
    "However, we are not going to use any of those. We are going to keep the unbalance as it is, and later during the training we'll try to use methods that are robust against unbalanced classes.\n",
    "     "
   ]
  },
  {
   "cell_type": "markdown",
   "metadata": {},
   "source": [
    "## Text "
   ]
  },
  {
   "cell_type": "markdown",
   "metadata": {},
   "source": [
    "As we can see the text contains URL, some special characters among other things. We could build a customized system to clean the text according with the issues that we find in the data we have. \n",
    "\n",
    "However, in the benefit of time we are going to use a generic cleaning pipeline to clean the text."
   ]
  },
  {
   "cell_type": "code",
   "execution_count": 28,
   "metadata": {},
   "outputs": [
    {
     "data": {
      "text/plain": [
       "['I would think most girls would like to dress and look nice for their man anyways .\\nSo he can show her off like a brand new sparkly jewel etc etc .',\n",
       " \"I've posted a thread in Stormfront Latin to help spread the WNPS and too see if we can get more translations .\",\n",
       " \"Look at this cultural incongruity from Plymouth . VIDEO : Plymouth celebrates St George 's Day with music and dancing in the streets | This is Plymouth\",\n",
       " 'Just for the record is this the same Journalist that wrote the article a few weeks ago telling us to mongrelise ?',\n",
       " 'Some kid knocking on a blacks door and running away.Look donkeys fords chipie across the road the internet cafe run by black overeactcted.Attacked the Limerick kid all at least 20 of them.Kid arrived out later with his at least 30 friends.The owner of internet cafe says to the white youth i have white blood.One roars back the only thing white about you is your teeth .',\n",
       " \"Another reason it might say so in the Census is because whites like me refused to fill out the census , to deliberately help skew it towards whinorities .\\nI want people to be shocked about `` minority '' takeover , and to react by building community with whites where they were chicken to , before , and to have white kids .\\nCYF First World Status\",\n",
       " \"Then when they 're good and pumped up on how awesome they are they 'll be knocking on your door asking you to surrender your guns .\\nIs this the Obama Civilian Defense Force under a different name ?\",\n",
       " 'I grew up in small town Southern N.B for a good half of my life , in a region called Kings County , it was 100 % white except for literally 3 black people , and they never mixed with whites ..\\nThe French N.B communities near Quebec especially would be white to .',\n",
       " 'When I go to just about any Australian city I feel like a foreigner , these cities were built by my own flesh and blood , I should not feel like an alien in them .',\n",
       " 'here is someone who in a round about way supports your argument and you tear them to bits. do you know what you believe in or not ?']"
      ]
     },
     "execution_count": 28,
     "metadata": {},
     "output_type": "execute_result"
    }
   ],
   "source": [
    "df_comment[\"text\"].sample(10).tolist()"
   ]
  },
  {
   "cell_type": "markdown",
   "metadata": {},
   "source": [
    "These are the parameters we are going to use for the text cleaning"
   ]
  },
  {
   "cell_type": "code",
   "execution_count": 29,
   "metadata": {},
   "outputs": [],
   "source": [
    "cleaner = CleanTransformer(\n",
    "    fix_unicode=True,               # fix various unicode errors\n",
    "    to_ascii=True,                  # transliterate to closest ASCII representation\n",
    "    lower=False,                     # lowercase text\n",
    "    no_line_breaks=False,           # fully strip line breaks as opposed to only normalizing them\n",
    "    no_urls=True,                  # replace all URLs with a special token\n",
    "    no_emails=True,                # replace all email addresses with a special token\n",
    "    no_phone_numbers=True,         # replace all phone numbers with a special token\n",
    "    no_numbers=True,               # replace all numbers with a special token\n",
    "    no_digits=True,                # replace all digits with a special token\n",
    "    no_currency_symbols=True,      # replace all currency symbols with a special token\n",
    "    no_punct=True,                 # remove punctuations\n",
    "    replace_with_punct=\"\",          # instead of removing punctuations you may replace them\n",
    "    replace_with_url=\"<URL>\",\n",
    "    replace_with_email=\"<EMAIL>\",\n",
    "    replace_with_phone_number=\"<PHONE>\",\n",
    "    replace_with_number=\"<NUMBER>\",\n",
    "    replace_with_digit=\"0\",\n",
    "    replace_with_currency_symbol=\"<CUR>\",\n",
    "    lang=\"en\"                       # set to 'de' for German special handling\n",
    ")"
   ]
  },
  {
   "cell_type": "markdown",
   "metadata": {},
   "source": [
    "Here we can see some examples after cleaning the text data:"
   ]
  },
  {
   "cell_type": "code",
   "execution_count": 30,
   "metadata": {},
   "outputs": [
    {
     "data": {
      "text/plain": [
       "[\"As of March 13th , 2014 , the booklet had been downloaded over 18,300 times and counting .\\nIn order to help increase the booklets downloads , it would be great if all Stormfronters who had YouTube accounts , could display the following text in the description boxes of their uploaded YouTube videos .\\n( Simply copy and paste the following text into your YouTube videos description boxes. )\\nClick below for a FREE download of a colorfully illustrated 132 page e-book on the Zionist-engineered INTENTIONAL destruction of Western civilization .\\nClick on the `` DOWNLOAD ( 7.42 MB ) '' green banner link .\\nBooklet updated on Feb. 14th , 2014 .\\n( Now with over 18,300 Downloads. )\\nPDF file : http://www.mediafire.com/download/7p3p3goadvvqvsf/WNDebateBooklet_2-14-14.pdfMSWordfile:http://www.mediafire.com/download/psezkkk4d6a3wt1/WNDebateBooklet _ 2-14-14.docx Watch the 10 hour video version of `` The Zionist Attack on Western Civilization '' @ http://trutube.tv/video/14247/The-Zionist-Attack-on-Western-Civilization-Pages-1-33-Part-1-of-4-Banned-from-YouTubeNotepadPromotionalYouTubeComment:http://www.mediafire.com/download/96fg6ft02lyfruz/Booklet _ White _ YT _ Comment _ ( Hyperlinked ) .txt http://www.mediafire.com/download/zcn3wozjbwnezms/Booklet-White-YT-Comment- ( Hyperlinked-Back-Up % 5D.txt http://www.mediafire.com/download/9uyudq1yuxu1dur/Booklet+Comment+%28Firefox%29.txt2minutepromotionalBOOKLETvideo@http://www.youtube.com/watch ? v = _ 8hg254ALpM Are you interested in helping spread the booklet download link across the world ?\\nThen why not simply copy this text ( & links ) and paste it into the description box of your YouTube videos ?\\nThank you in advance. : ) Download the youtube `` description box '' info text file below @ http://www.mediafire.com/download/dqhn1czprr17o21/Booklet-Description-Box _ Info.txt\",\n",
       " \"As of December 31st , 2013 at about 8 AM PST , the booklet had been downloaded 16,270 times and counting .\\nIn order to help increase the booklets downloads , it would be great if all Stormfronters who had YouTube accounts , could display the following text in the description boxes of their uploaded YouTube videos .\\nClick below for a FREE download of a colorfully illustrated 132 page e-book on the Zionist-engineered INTENTIONAL destruction of Western civilization .\\nClick on the `` DOWNLOAD ( 7.39 MB ) '' link .\\nBooklet updated on Dec. 9th , 2013 .\\n( Now over 16,000 Downloads ! )\\nPDF file : http://www.mediafire.com/download/4w18ocon384cx6c/WN-Debate-Booklet+12-09-13.pdfMSWordfile:http://www.mediafire.com/download/7ic1n7oq7jidz22/WN-Debate-Booklet + 12-09-13.docx Watch the 10 hour video version of `` The Zionist Attack on Western Civilization '' @ http://trutube.tv/video/14247/The-Zionist-Attack-on-Western-Civilization-Pages-1-33-Part-1-of-4-Banned-from-YouTubeNotepadPromotionalYouTubeComment:http://www.mediafire.com/download/96fg6ft02lyfruz/Booklet _ White _ YT _ Comment _ ( Hyperlinked ) .txt http://www.mediafire.com/download/zcn3wozjbwnezms/Booklet-White-YT-Comment- ( Hyperlinked-Back-Up % 5D.txt http://www.mediafire.com/view/9uyudq1yuxu1dur/Booklet+Comment+%28Firefox%29.txtOriginal2minutepromotionalBOOKLETvideo@http://www.youtube.com/watch ? v = n663eVTSyS8 Are you interested in helping spread the booklet download link across the world ?\\nThen why not simply copy this text ( & links ) and paste it into the description box of your YouTube videos ?\\nThank you in advance. : ) Download the youtube `` description box '' info text file below @ http://www.mediafire.com/download/gxv2b33v37la6pz/Booklet % 20Description % 20Box % 20Info.txt\",\n",
       " \"She may or may not be a Jew but she 's certainly stupid , she seems to think the Blacks wo n't kill her alongside every other White they can get their dirty hands on , what a muppet !\"]"
      ]
     },
     "execution_count": 30,
     "metadata": {},
     "output_type": "execute_result"
    }
   ],
   "source": [
    "df_comment[\"text\"].head(3).tolist()"
   ]
  },
  {
   "cell_type": "markdown",
   "metadata": {},
   "source": [
    "Or after cleaning the text:"
   ]
  },
  {
   "cell_type": "code",
   "execution_count": 31,
   "metadata": {},
   "outputs": [
    {
     "data": {
      "text/plain": [
       "['As of March 00th <NUMBER> the booklet had been downloaded over <NUMBER> times and counting\\nIn order to help increase the booklets downloads it would be great if all Stormfronters who had YouTube accounts could display the following text in the description boxes of their uploaded YouTube videos\\nSimply copy and paste the following text into your YouTube videos description boxes\\nClick below for a FREE download of a colorfully illustrated <NUMBER> page ebook on the Zionistengineered INTENTIONAL destruction of Western civilization\\nClick on the DOWNLOAD <NUMBER> MB green banner link\\nBooklet updated on Feb 00th <NUMBER>\\nNow with over <NUMBER> Downloads\\nPDF file <URL> <NUMBER><NUMBER><NUMBER>docx Watch the <NUMBER> hour video version of The Zionist Attack on Western Civilization <URL> White YT Comment Hyperlinked txt <URL> HyperlinkedBackUp 0Dtxt <URL> v = 0hg000ALpM Are you interested in helping spread the booklet download link across the world\\nThen why not simply copy this text links and paste it into the description box of your YouTube videos\\nThank you in advance Download the youtube description box info text file below <URL> Infotxt',\n",
       " 'As of December 00st <NUMBER> at about <NUMBER> AM PST the booklet had been downloaded <NUMBER> times and counting\\nIn order to help increase the booklets downloads it would be great if all Stormfronters who had YouTube accounts could display the following text in the description boxes of their uploaded YouTube videos\\nClick below for a FREE download of a colorfully illustrated <NUMBER> page ebook on the Zionistengineered INTENTIONAL destruction of Western civilization\\nClick on the DOWNLOAD <NUMBER> MB link\\nBooklet updated on Dec 0th <NUMBER>\\nNow over <NUMBER> Downloads\\nPDF file <URL> + <NUMBER><NUMBER><NUMBER>docx Watch the <NUMBER> hour video version of The Zionist Attack on Western Civilization <URL> White YT Comment Hyperlinked txt <URL> HyperlinkedBackUp 0Dtxt <URL> v = n000eVTSyS0 Are you interested in helping spread the booklet download link across the world\\nThen why not simply copy this text links and paste it into the description box of your YouTube videos\\nThank you in advance Download the youtube description box info text file below <URL> 00Description 00Box 00Infotxt',\n",
       " 'She may or may not be a Jew but she s certainly stupid she seems to think the Blacks wo nt kill her alongside every other White they can get their dirty hands on what a muppet']"
      ]
     },
     "execution_count": 31,
     "metadata": {},
     "output_type": "execute_result"
    }
   ],
   "source": [
    "cleaner.transform(df_comment[\"text\"].head(3).tolist())"
   ]
  },
  {
   "cell_type": "code",
   "execution_count": 32,
   "metadata": {},
   "outputs": [],
   "source": [
    "df_comment[\"text\"] = cleaner.transform(df_comment[\"text\"].tolist())\n"
   ]
  },
  {
   "cell_type": "markdown",
   "metadata": {},
   "source": [
    "# Save the cleaned data"
   ]
  },
  {
   "cell_type": "markdown",
   "metadata": {},
   "source": [
    "With this we conclude the EDA analysis, we now have the data in a way that we can use it for training a model. \n",
    "\n",
    "We are going to save the data divided into train and test datasets. with a 80 - 20% split.\n",
    "\n",
    "We'll make sure that the proportions on 'label' and 'subforum_id' are the same in both datasets. "
   ]
  },
  {
   "cell_type": "code",
   "execution_count": 33,
   "metadata": {},
   "outputs": [],
   "source": [
    "# Splitting the dataframe into train and test sets while maintaining the proportion of 'label' and 'subforum_id'\n",
    "df_train, df_test = train_test_split(df_comment, test_size=0.2, stratify=df_comment[['label', 'subforum_id']])\n",
    "\n",
    "# save the train and test dataframes to disk\n",
    "df_train.to_parquet(\"../data/train.parquet\")\n",
    "df_test.to_parquet(\"../data/test.parquet\")\n"
   ]
  }
 ],
 "metadata": {
  "kernelspec": {
   "display_name": "Python 3 (ipykernel)",
   "language": "python",
   "name": "python3"
  },
  "language_info": {
   "codemirror_mode": {
    "name": "ipython",
    "version": 3
   },
   "file_extension": ".py",
   "mimetype": "text/x-python",
   "name": "python",
   "nbconvert_exporter": "python",
   "pygments_lexer": "ipython3",
   "version": "3.11.6"
  }
 },
 "nbformat": 4,
 "nbformat_minor": 4
}
