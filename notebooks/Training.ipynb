{
 "cells": [
  {
   "cell_type": "markdown",
   "metadata": {},
   "source": [
    "# Training Notebook Schema\n",
    "\n",
    "After running the EDA analysis, the next step is to train a model to detect hate speech. This notebook will be used to define the model architecture, train the model, evaluate its performance, and potentially improve it. The notebook will be structured as follows:\n",
    "\n",
    "#### Setup\n",
    "   - Import necessary libraries and define global configurations\n",
    "\n",
    "#### Data Preparation\n",
    "   - Load the cleaned and preprocessed data.\n",
    "   - Split data into training, validation, and test sets.\n",
    "\n",
    "#### Model Training\n",
    "   - We are going to try 3 different approaches:  \n",
    "         - TF-IDF + Logistic Regression model\n",
    "         - BCE Embeddings + Logistic Regression model\n",
    "         - Fine tuned BCE Embeddings + Logistic Regression model\n",
    "   - For each of them we are going to evaluate the model using the test set. \n",
    "\n",
    "#### Future Work\n",
    "   - Discuss potential improvements and future directions for the project."
   ]
  },
  {
   "cell_type": "markdown",
   "metadata": {
    "vscode": {
     "languageId": "plaintext"
    }
   },
   "source": [
    "# Setup "
   ]
  },
  {
   "cell_type": "code",
   "execution_count": 1,
   "metadata": {},
   "outputs": [],
   "source": [
    "import os\n",
    "import random\n",
    "import numpy as np\n",
    "import pandas as pd\n",
    "from sentence_transformers import SentenceTransformer, InputExample, losses\n",
    "from sentence_transformers.evaluation import BinaryClassificationEvaluator\n",
    "from sentence_transformers.datasets import NoDuplicatesDataLoader\n",
    "from sklearn.preprocessing import FunctionTransformer\n",
    "from sklearn.feature_extraction.text import TfidfVectorizer\n",
    "from sklearn.linear_model import LogisticRegression\n",
    "from sklearn.naive_bayes import BernoulliNB\n",
    "from sklearn.pipeline import Pipeline\n",
    "from sklearn.metrics import classification_report, confusion_matrix\n",
    "from joblib import dump\n",
    "import torch \n",
    "import seaborn as sns\n",
    "import matplotlib.pyplot as plt\n"
   ]
  },
  {
   "cell_type": "code",
   "execution_count": 2,
   "metadata": {},
   "outputs": [
    {
     "name": "stderr",
     "output_type": "stream",
     "text": [
      "[nltk_data] Downloading package stopwords to\n",
      "[nltk_data]     /Users/carlosmorales/nltk_data...\n",
      "[nltk_data]   Package stopwords is already up-to-date!\n"
     ]
    }
   ],
   "source": [
    "import nltk\n",
    "nltk.download('stopwords')\n",
    "from nltk.corpus import stopwords\n",
    "\n",
    "os.environ['PYTORCH_MPS_HIGH_WATERMARK_RATIO'] = '0.0'\n"
   ]
  },
  {
   "cell_type": "markdown",
   "metadata": {},
   "source": [
    "# Data Preparations"
   ]
  },
  {
   "cell_type": "code",
   "execution_count": 3,
   "metadata": {},
   "outputs": [
    {
     "data": {
      "text/plain": [
       "(3998, 6)"
      ]
     },
     "metadata": {},
     "output_type": "display_data"
    },
    {
     "data": {
      "text/html": [
       "<div>\n",
       "<style scoped>\n",
       "    .dataframe tbody tr th:only-of-type {\n",
       "        vertical-align: middle;\n",
       "    }\n",
       "\n",
       "    .dataframe tbody tr th {\n",
       "        vertical-align: top;\n",
       "    }\n",
       "\n",
       "    .dataframe thead th {\n",
       "        text-align: right;\n",
       "    }\n",
       "</style>\n",
       "<table border=\"1\" class=\"dataframe\">\n",
       "  <thead>\n",
       "    <tr style=\"text-align: right;\">\n",
       "      <th></th>\n",
       "      <th>comment_id</th>\n",
       "      <th>user_id</th>\n",
       "      <th>subforum_id</th>\n",
       "      <th>text</th>\n",
       "      <th>label</th>\n",
       "      <th>num_contexts</th>\n",
       "    </tr>\n",
       "  </thead>\n",
       "  <tbody>\n",
       "    <tr>\n",
       "      <th>0</th>\n",
       "      <td>31768437</td>\n",
       "      <td>585713</td>\n",
       "      <td>1363</td>\n",
       "      <td>the only way we can win is by opening the eyes...</td>\n",
       "      <td>False</td>\n",
       "      <td>0</td>\n",
       "    </tr>\n",
       "    <tr>\n",
       "      <th>1</th>\n",
       "      <td>13594695</td>\n",
       "      <td>589961</td>\n",
       "      <td>1393</td>\n",
       "      <td>Maybe some of you people should grow up You do...</td>\n",
       "      <td>False</td>\n",
       "      <td>0</td>\n",
       "    </tr>\n",
       "    <tr>\n",
       "      <th>2</th>\n",
       "      <td>13470210</td>\n",
       "      <td>572059</td>\n",
       "      <td>1346</td>\n",
       "      <td>Deuteronomy &lt;NUMBER&gt; &lt;NUMBER&gt; God speaking to ...</td>\n",
       "      <td>True</td>\n",
       "      <td>0</td>\n",
       "    </tr>\n",
       "  </tbody>\n",
       "</table>\n",
       "</div>"
      ],
      "text/plain": [
       "  comment_id user_id subforum_id  \\\n",
       "0   31768437  585713        1363   \n",
       "1   13594695  589961        1393   \n",
       "2   13470210  572059        1346   \n",
       "\n",
       "                                                text  label  num_contexts  \n",
       "0  the only way we can win is by opening the eyes...  False             0  \n",
       "1  Maybe some of you people should grow up You do...  False             0  \n",
       "2  Deuteronomy <NUMBER> <NUMBER> God speaking to ...   True             0  "
      ]
     },
     "execution_count": 3,
     "metadata": {},
     "output_type": "execute_result"
    }
   ],
   "source": [
    "df_train = pd.read_parquet(\"../data/train.parquet\").reset_index(drop=True)\n",
    "display(df_train.shape) \n",
    "df_train.head(3)"
   ]
  },
  {
   "cell_type": "code",
   "execution_count": 4,
   "metadata": {},
   "outputs": [
    {
     "data": {
      "text/plain": [
       "(1000, 6)"
      ]
     },
     "metadata": {},
     "output_type": "display_data"
    },
    {
     "data": {
      "text/html": [
       "<div>\n",
       "<style scoped>\n",
       "    .dataframe tbody tr th:only-of-type {\n",
       "        vertical-align: middle;\n",
       "    }\n",
       "\n",
       "    .dataframe tbody tr th {\n",
       "        vertical-align: top;\n",
       "    }\n",
       "\n",
       "    .dataframe thead th {\n",
       "        text-align: right;\n",
       "    }\n",
       "</style>\n",
       "<table border=\"1\" class=\"dataframe\">\n",
       "  <thead>\n",
       "    <tr style=\"text-align: right;\">\n",
       "      <th></th>\n",
       "      <th>comment_id</th>\n",
       "      <th>user_id</th>\n",
       "      <th>subforum_id</th>\n",
       "      <th>text</th>\n",
       "      <th>label</th>\n",
       "      <th>num_contexts</th>\n",
       "    </tr>\n",
       "  </thead>\n",
       "  <tbody>\n",
       "    <tr>\n",
       "      <th>0</th>\n",
       "      <td>14666244</td>\n",
       "      <td>614195</td>\n",
       "      <td>1371</td>\n",
       "      <td>Hopefully these video s can wake you all up ab...</td>\n",
       "      <td>False</td>\n",
       "      <td>0</td>\n",
       "    </tr>\n",
       "    <tr>\n",
       "      <th>1</th>\n",
       "      <td>13291133</td>\n",
       "      <td>573473</td>\n",
       "      <td>1345</td>\n",
       "      <td>Not only is this case typical of the feral sub...</td>\n",
       "      <td>True</td>\n",
       "      <td>0</td>\n",
       "    </tr>\n",
       "    <tr>\n",
       "      <th>2</th>\n",
       "      <td>13082561</td>\n",
       "      <td>576531</td>\n",
       "      <td>1345</td>\n",
       "      <td>Sergey Brin claims his family were victims of ...</td>\n",
       "      <td>False</td>\n",
       "      <td>0</td>\n",
       "    </tr>\n",
       "  </tbody>\n",
       "</table>\n",
       "</div>"
      ],
      "text/plain": [
       "  comment_id user_id subforum_id  \\\n",
       "0   14666244  614195        1371   \n",
       "1   13291133  573473        1345   \n",
       "2   13082561  576531        1345   \n",
       "\n",
       "                                                text  label  num_contexts  \n",
       "0  Hopefully these video s can wake you all up ab...  False             0  \n",
       "1  Not only is this case typical of the feral sub...   True             0  \n",
       "2  Sergey Brin claims his family were victims of ...  False             0  "
      ]
     },
     "execution_count": 4,
     "metadata": {},
     "output_type": "execute_result"
    }
   ],
   "source": [
    "df_test = pd.read_parquet(\"../data/test.parquet\").reset_index(drop=True)\n",
    "display(df_test.shape) \n",
    "df_test.head(3)"
   ]
  },
  {
   "cell_type": "code",
   "execution_count": 5,
   "metadata": {},
   "outputs": [],
   "source": [
    "X_train, y_train = df_train['text'], df_train['label']\n",
    "X_test, y_test = df_test['text'], df_test['label']"
   ]
  },
  {
   "cell_type": "markdown",
   "metadata": {},
   "source": [
    "# Model Training "
   ]
  },
  {
   "cell_type": "markdown",
   "metadata": {},
   "source": [
    " We are going to explore different modeling approaches to evaluate their performance variations. \n",
    "\n",
    "  - Firstly, we will establish a baseline using a traditional method: **TF-IDF** for numeric representation of text data, followed by a Logistic Regression model to perform classification.\n",
    "\n",
    "  - Secondly, we will employ a **pre-trained embeddings** model directly (without any fine-tuning) and apply a Logistic Regression model to classify based on these embeddings.\n",
    "\n",
    "  - Thirdly, we will take a **pre-trained embeddings model, fine-tune** it specifically for our dataset, and then use a Logistic Regression model for classification.\n",
    "\n",
    " Additionally, for more complex scenarios, we could replace the Logistic Regression with more sophisticated models such as Support Vector Machines (SVM), Random Forests, or even neural network architectures to potentially improve performance.\n"
   ]
  },
  {
   "cell_type": "markdown",
   "metadata": {},
   "source": [
    "## TF-IDF"
   ]
  },
  {
   "cell_type": "code",
   "execution_count": 6,
   "metadata": {},
   "outputs": [
    {
     "name": "stdout",
     "output_type": "stream",
     "text": [
      "              precision    recall  f1-score   support\n",
      "\n",
      "       False       0.90      0.98      0.94      3140\n",
      "        True       0.88      0.62      0.73       858\n",
      "\n",
      "    accuracy                           0.90      3998\n",
      "   macro avg       0.89      0.80      0.83      3998\n",
      "weighted avg       0.90      0.90      0.89      3998\n",
      "\n"
     ]
    }
   ],
   "source": [
    "# Load English stopwords\n",
    "english_stopwords = stopwords.words('english')\n",
    "\n",
    "# Create a TF-IDF Vectorizer\n",
    "tfidf_vectorizer = TfidfVectorizer(stop_words=english_stopwords, max_features=5000)\n",
    "\n",
    "# Create a Complement Naive Bayes classifier, suitable for imbalanced datasets\n",
    "bayesian_classifier = BernoulliNB()\n",
    "\n",
    "# Create a pipeline to vectorize and then run the Bayesian classifier\n",
    "pipeline = Pipeline([\n",
    "    ('tfidf', tfidf_vectorizer),\n",
    "    ('classifier', bayesian_classifier)\n",
    "])\n",
    "\n",
    "# Fit the pipeline on the training data\n",
    "pipeline.fit(X_train, y_train)\n",
    "\n",
    "# Evaluate the model over training data\n",
    "y_pred = pipeline.predict(X_train)\n",
    "print(classification_report(y_train, y_pred))"
   ]
  },
  {
   "cell_type": "code",
   "execution_count": 7,
   "metadata": {},
   "outputs": [
    {
     "name": "stdout",
     "output_type": "stream",
     "text": [
      "              precision    recall  f1-score   support\n",
      "\n",
      "       False       0.84      0.94      0.89       785\n",
      "        True       0.62      0.34      0.44       215\n",
      "\n",
      "    accuracy                           0.81      1000\n",
      "   macro avg       0.73      0.64      0.66      1000\n",
      "weighted avg       0.79      0.81      0.79      1000\n",
      "\n"
     ]
    }
   ],
   "source": [
    "# Evaluate the model over test data\n",
    "y_pred = pipeline.predict(X_test)\n",
    "print(classification_report(y_test, y_pred))"
   ]
  },
  {
   "cell_type": "code",
   "execution_count": 8,
   "metadata": {},
   "outputs": [],
   "source": [
    "def plot_confusion_matrix(y_test, y_pred):\n",
    "    \"\"\"\n",
    "    Computes and visualizes the confusion matrix.\n",
    "\n",
    "    Args:\n",
    "    y_test (array-like): True labels of the test set.\n",
    "    y_pred (array-like): Predicted labels by the model.\n",
    "    \"\"\"\n",
    "    # Compute the confusion matrix\n",
    "    cm = confusion_matrix(y_test, y_pred)\n",
    "\n",
    "    # Plot the confusion matrix\n",
    "    plt.figure(figsize=(5, 3))\n",
    "    sns.heatmap(cm, annot=True, fmt='d', cmap='Blues', \n",
    "                xticklabels=['Predicted Negative', 'Predicted Positive'], \n",
    "                yticklabels=['Actual Negative', 'Actual Positive'])\n",
    "    plt.xlabel('Predicted')\n",
    "    plt.ylabel('Actual')\n",
    "    plt.title('Confusion Matrix')\n",
    "    plt.show()\n",
    "\n"
   ]
  },
  {
   "cell_type": "code",
   "execution_count": 9,
   "metadata": {},
   "outputs": [
    {
     "data": {
      "image/png": "[encoded data removed]",
      "text/plain": [
       "<Figure size 500x300 with 2 Axes>"
      ]
     },
     "metadata": {},
     "output_type": "display_data"
    }
   ],
   "source": [
    "plot_confusion_matrix(y_test, y_pred)"
   ]
  },
  {
   "cell_type": "markdown",
   "metadata": {},
   "source": [
    "# BGE Embedding Model "
   ]
  },
  {
   "cell_type": "code",
   "execution_count": 10,
   "metadata": {},
   "outputs": [
    {
     "name": "stderr",
     "output_type": "stream",
     "text": [
      "/Users/carlosmorales/Library/Caches/pypoetry/virtualenvs/carlos-morales-nlp-assignment-TEig4pQx-py3.11/lib/python3.11/site-packages/huggingface_hub/file_download.py:1132: FutureWarning: `resume_download` is deprecated and will be removed in version 1.0.0. Downloads always resume when possible. If you want to force a new download, use `force_download=True`.\n",
      "  warnings.warn(\n"
     ]
    }
   ],
   "source": [
    "model_name_hf = \"BAAI/bge-large-en-v1.5\"\n",
    "\n",
    "# Load the Sentence Transformer model\n",
    "model = SentenceTransformer(model_name_hf)\n",
    "\n",
    "def text_to_embedding(text):\n",
    "    \"Function to convert text data into embeddings using a loaded model\"\n",
    "    return model.encode(text, convert_to_tensor=True).cpu()"
   ]
  },
  {
   "cell_type": "code",
   "execution_count": 11,
   "metadata": {},
   "outputs": [
    {
     "name": "stdout",
     "output_type": "stream",
     "text": [
      "              precision    recall  f1-score   support\n",
      "\n",
      "       False       0.88      0.97      0.92      3140\n",
      "        True       0.81      0.52      0.63       858\n",
      "\n",
      "    accuracy                           0.87      3998\n",
      "   macro avg       0.84      0.74      0.78      3998\n",
      "weighted avg       0.86      0.87      0.86      3998\n",
      "\n",
      "CPU times: user 17.1 s, sys: 6.03 s, total: 23.1 s\n",
      "Wall time: 1min 4s\n"
     ]
    }
   ],
   "source": [
    "%%time\n",
    "\n",
    "# Create a Logistic Regression classifier\n",
    "logistic_classifier = LogisticRegression()\n",
    "\n",
    "# Create a pipeline to convert text to embeddings and then run the Logistic classifier\n",
    "pipeline = Pipeline([\n",
    "    ('embedding', FunctionTransformer(text_to_embedding)),\n",
    "    ('classifier', logistic_classifier)\n",
    "])\n",
    "\n",
    "X_train = df_train['text'].reset_index(drop=True)\n",
    "y_train = df_train['label'].reset_index(drop=True)\n",
    "\n",
    "# Fit the pipeline on the training data\n",
    "pipeline.fit(X_train, y_train)\n",
    "\n",
    "# Evaluate the model over training data\n",
    "y_pred = pipeline.predict(X_train)\n",
    "print(classification_report(y_train, y_pred))"
   ]
  },
  {
   "cell_type": "code",
   "execution_count": 12,
   "metadata": {},
   "outputs": [
    {
     "name": "stdout",
     "output_type": "stream",
     "text": [
      "              precision    recall  f1-score   support\n",
      "\n",
      "       False       0.88      0.95      0.91       785\n",
      "        True       0.74      0.52      0.61       215\n",
      "\n",
      "    accuracy                           0.86      1000\n",
      "   macro avg       0.81      0.73      0.76      1000\n",
      "weighted avg       0.85      0.86      0.85      1000\n",
      "\n"
     ]
    }
   ],
   "source": [
    "# Evaluate the model over test data\n",
    "y_pred = pipeline.predict(X_test)\n",
    "print(classification_report(y_test, y_pred))"
   ]
  },
  {
   "cell_type": "markdown",
   "metadata": {},
   "source": [
    "Here we almost dont see any differece because we haven't trained the embedding model, only the logistic regression model."
   ]
  },
  {
   "cell_type": "code",
   "execution_count": 13,
   "metadata": {},
   "outputs": [
    {
     "data": {
      "image/png": "[encoded data removed]",
      "text/plain": [
       "<Figure size 500x300 with 2 Axes>"
      ]
     },
     "metadata": {},
     "output_type": "display_data"
    }
   ],
   "source": [
    "plot_confusion_matrix(y_test, y_pred)\n"
   ]
  },
  {
   "cell_type": "markdown",
   "metadata": {},
   "source": [
    "# Fine-tune Embedding Model"
   ]
  },
  {
   "cell_type": "code",
   "execution_count": 14,
   "metadata": {},
   "outputs": [
    {
     "name": "stderr",
     "output_type": "stream",
     "text": [
      "/Users/carlosmorales/Library/Caches/pypoetry/virtualenvs/carlos-morales-nlp-assignment-TEig4pQx-py3.11/lib/python3.11/site-packages/huggingface_hub/file_download.py:1132: FutureWarning: `resume_download` is deprecated and will be removed in version 1.0.0. Downloads always resume when possible. If you want to force a new download, use `force_download=True`.\n",
      "  warnings.warn(\n"
     ]
    }
   ],
   "source": [
    "# Fine-tune the Embedding Model\n",
    "model_name_hf = \"BAAI/bge-large-en-v1.5\"\n",
    "model = SentenceTransformer(model_name_hf)\n"
   ]
  },
  {
   "cell_type": "markdown",
   "metadata": {},
   "source": [
    "Let's prepare the data for training with BatchHardSoftMarginTripletLoss by ensurin:\n",
    "  - the labels are integers \n",
    "  - and creating a list of InputExample objects from out comments.  A list of (Tex, Label)\n"
   ]
  },
  {
   "cell_type": "code",
   "execution_count": 15,
   "metadata": {},
   "outputs": [],
   "source": [
    "df_train['label'] = df_train['label'].astype(int)\n",
    "train_dataset = [InputExample(texts=[text], label=label) for text, label in zip(df_train['text'], df_train['label'])]\n",
    "\n",
    "df_test['label'] = df_test['label'].astype(int)\n",
    "test_dataset = [InputExample(texts=[text], label=label) for text, label in zip(df_test['text'], df_test['label'])]"
   ]
  },
  {
   "cell_type": "code",
   "execution_count": 16,
   "metadata": {},
   "outputs": [
    {
     "name": "stderr",
     "output_type": "stream",
     "text": [
      "/Users/carlosmorales/Library/Caches/pypoetry/virtualenvs/carlos-morales-nlp-assignment-TEig4pQx-py3.11/lib/python3.11/site-packages/huggingface_hub/file_download.py:1132: FutureWarning: `resume_download` is deprecated and will be removed in version 1.0.0. Downloads always resume when possible. If you want to force a new download, use `force_download=True`.\n",
      "  warnings.warn(\n"
     ]
    }
   ],
   "source": [
    "model_name_hf = \"BAAI/bge-large-en-v1.5\"\n",
    "model = SentenceTransformer(model_name_hf)"
   ]
  },
  {
   "cell_type": "code",
   "execution_count": 17,
   "metadata": {},
   "outputs": [],
   "source": [
    "# Create the evaluator with randomized sentence pairs\n",
    "random_test_dataset = random.sample(test_dataset, len(test_dataset))\n",
    "\n",
    "evaluator = BinaryClassificationEvaluator(\n",
    "    sentences1=[example.texts[0] for example in test_dataset],\n",
    "    sentences2=[example.texts[0] for example in random_test_dataset],\n",
    "    labels=[example.label for example in test_dataset],\n",
    "    name='accuracy-eval'\n",
    ")\n"
   ]
  },
  {
   "cell_type": "markdown",
   "metadata": {},
   "source": [
    "To enhance the training process, we will utilize:\n",
    " \n",
    "  - **BatchHardSoftMarginTripletLoss**: This loss function processes a batch of (sentence, label) pairs, calculating the loss across all valid triplets. For a triplet to be valid, the anchor and positive must share the same label, while the anchor and negative must have different labels. This approach is particularly effective for binary classification tasks like ours, helping to mitigate the effects of class imbalance.\n",
    " \n",
    " - **Matryoshka2dLoss**: This method reduces the dimensionality of embeddings but maintains most of the original performance. It helps in building a more robust classifier using the reduced-dimension embeddings.\n"
   ]
  },
  {
   "cell_type": "code",
   "execution_count": 18,
   "metadata": {},
   "outputs": [
    {
     "ename": "NameError",
     "evalue": "name 'math' is not defined",
     "output_type": "error",
     "traceback": [
      "\u001b[0;31m---------------------------------------------------------------------------\u001b[0m",
      "\u001b[0;31mNameError\u001b[0m                                 Traceback (most recent call last)",
      "File \u001b[0;32m<timed exec>:14\u001b[0m\n",
      "\u001b[0;31mNameError\u001b[0m: name 'math' is not defined"
     ]
    }
   ],
   "source": [
    "%%time\n",
    "\n",
    "## 15 mins \n",
    "\n",
    "torch.mps.empty_cache()\n",
    "\n",
    "train_batch_size = 4\n",
    "epochs = 2\n",
    "\n",
    "train_dataloader = NoDuplicatesDataLoader(train_examples=train_dataset, batch_size=train_batch_size)\n",
    "\n",
    "train_loss = losses.BatchHardSoftMarginTripletLoss(model=model)\n",
    "train_loss = losses.Matryoshka2dLoss(model, train_loss, [1024, 256, 128, 64])\n",
    "\n",
    "\n",
    "warmup_steps = math.ceil(len(train_dataloader) * epochs * 0.1)\n",
    "\n",
    "model.fit(\n",
    "    train_objectives=[(train_dataloader, train_loss)],\n",
    "    evaluator=evaluator,\n",
    "    epochs=epochs,\n",
    "    warmup_steps=warmup_steps,\n",
    "    use_amp=False, \n",
    "    optimizer_params={'lr': 1e-5},\n",
    "    show_progress_bar=True,\n",
    ")\n",
    "\n",
    "\n",
    "model_save_path = f'../models/{model_name_hf}_finetuned'\n",
    "model.save(model_save_path)\n"
   ]
  },
  {
   "cell_type": "markdown",
   "metadata": {},
   "source": [
    "Note: we are using Matryoshka Representation Learning to be able to truncate the dimensions on the embedding to reduce the dimensionality of the embeddings. \n",
    "\n",
    "The main goal of this is to make the problem to solve by the logistic classifier a bit easier."
   ]
  },
  {
   "cell_type": "code",
   "execution_count": 19,
   "metadata": {},
   "outputs": [
    {
     "ename": "NameError",
     "evalue": "name 'model_save_path' is not defined",
     "output_type": "error",
     "traceback": [
      "\u001b[0;31m---------------------------------------------------------------------------\u001b[0m",
      "\u001b[0;31mNameError\u001b[0m                                 Traceback (most recent call last)",
      "Cell \u001b[0;32mIn[19], line 3\u001b[0m\n\u001b[1;32m      1\u001b[0m matryoshka_dim \u001b[38;5;241m=\u001b[39m \u001b[38;5;241m64\u001b[39m\n\u001b[1;32m      2\u001b[0m \u001b[38;5;66;03m# Load the fine-tuned model\u001b[39;00m\n\u001b[0;32m----> 3\u001b[0m model \u001b[38;5;241m=\u001b[39m SentenceTransformer(\u001b[43mmodel_save_path\u001b[49m, truncate_dim\u001b[38;5;241m=\u001b[39mmatryoshka_dim)\n\u001b[1;32m      5\u001b[0m \u001b[38;5;66;03m# Function to convert text to embeddings using the fine-tuned model\u001b[39;00m\n\u001b[1;32m      6\u001b[0m \u001b[38;5;28;01mdef\u001b[39;00m \u001b[38;5;21mtext_to_finetuned_embedding\u001b[39m(text):\n",
      "\u001b[0;31mNameError\u001b[0m: name 'model_save_path' is not defined"
     ]
    }
   ],
   "source": [
    "matryoshka_dim = 64\n",
    "# Load the fine-tuned model\n",
    "model = SentenceTransformer(model_save_path, truncate_dim=matryoshka_dim)\n",
    "\n",
    "# Function to convert text to embeddings using the fine-tuned model\n",
    "def text_to_finetuned_embedding(text):\n",
    "    return model.encode(text, convert_to_tensor=True).cpu()\n",
    "\n",
    "# Create a Logistic Regression classifier\n",
    "logistic_classifier = LogisticRegression()\n",
    "\n",
    "# Create a pipeline to convert text to fine-tuned embeddings and then run the Logistic classifier\n",
    "pipeline = Pipeline([\n",
    "    ('embedding', FunctionTransformer(text_to_finetuned_embedding)),\n",
    "    ('classifier', logistic_classifier)\n",
    "])\n",
    "\n",
    "X_train = df_train['text'].reset_index(drop=True)\n",
    "y_train = df_train['label'].reset_index(drop=True)\n",
    "\n",
    "# Fit the pipeline on the training data\n",
    "pipeline.fit(X_train, y_train)\n",
    "\n",
    "# Saving the logistic regression classifier \n",
    "logistic_classifier = pipeline.named_steps['classifier']\n",
    "dump(logistic_classifier, '../models/logistic_regression_classifier.joblib')\n",
    "\n",
    "# Evaluate the model over training data\n",
    "y_pred = pipeline.predict(X_train)\n",
    "print(classification_report(y_train, y_pred))"
   ]
  },
  {
   "cell_type": "code",
   "execution_count": null,
   "metadata": {},
   "outputs": [],
   "source": [
    "# Evaluate the model over test data\n",
    "y_pred = pipeline.predict(X_test)\n",
    "print(classification_report(y_test, y_pred))"
   ]
  },
  {
   "cell_type": "code",
   "execution_count": null,
   "metadata": {},
   "outputs": [],
   "source": [
    "plot_confusion_matrix(y_test, y_pred)"
   ]
  },
  {
   "cell_type": "markdown",
   "metadata": {},
   "source": [
    "# Model Comparison "
   ]
  },
  {
   "cell_type": "markdown",
   "metadata": {},
   "source": [
    "We are going to focus on macro f1-score. This is a good metric because it takes into account the imbalance of the classes being is the average of the f1-scores of each class.\n",
    "\n",
    "We have the following metrics evaluated over the test data for the different approaches:\n",
    "  - **TF-IDF + Logistic Regression** = 0.64\n",
    "  - **BGE Embedding + Logistic Regression** = 0.76\n",
    "  - **Fine-tuned BGE Embedding + Logistic Regression** = 0.81\n",
    "\n",
    "\n",
    "This is not surprising as naive approaches like TF-IDF are good at detecting keywords but are not able to capture the complexity of the language, so when using more complex models, specially when we train our own embedding system, we get better results. \n",
    "\n",
    "Also it is noteworthy that the fine-tuned model has substantially increased the recall for the hate speech class (0.71), which is the most important class to detect.\n",
    "\n",
    "In conclusion, the fine-tuned model is the best performing model, and this is the one we are going to deploy. "
   ]
  },
  {
   "cell_type": "markdown",
   "metadata": {},
   "source": [
    "# Saving results \n",
    "\n",
    "We are going to save the results of the fine-tuned model over the test dataset:\n"
   ]
  },
  {
   "cell_type": "code",
   "execution_count": null,
   "metadata": {},
   "outputs": [],
   "source": [
    "df_test['predicted_label'] = y_pred\n",
    "df_test.to_csv(\"../results/predictions_over_test.csv\", index=False)"
   ]
  },
  {
   "cell_type": "markdown",
   "metadata": {},
   "source": [
    "# Further Work\n",
    "\n",
    " Due to time constraints and limited resources (running on CPU), we are concluding the training section here. However, there are several strategies to consider for enhancing model performance in future developments:\n",
    "\n",
    " - Hyper parameter tuning for the logistic regression model to enhance its predictive accuracy. \n",
    " \n",
    " - Experiment with more complex models such as Support Vector Machines (SVM), Random Forests, or neural network architectures to potentially improve performance.\n",
    "\n",
    " - Adjust the training parameters of the pre-trained embeddings model, such as increasing the number of epochs or modifying the learning rate, to see if there are performance gains.\n",
    "\n",
    " - Explore the use of more powerful models like DistilBert or recently introduced small LLMs such as Gemma or Phi-3. We have not tried any of those because their size is too big for CPU training.\n"
   ]
  }
 ],
 "metadata": {
  "kernelspec": {
   "display_name": "Python 3 (ipykernel)",
   "language": "python",
   "name": "python3"
  },
  "language_info": {
   "codemirror_mode": {
    "name": "ipython",
    "version": 3
   },
   "file_extension": ".py",
   "mimetype": "text/x-python",
   "name": "python",
   "nbconvert_exporter": "python",
   "pygments_lexer": "ipython3",
   "version": "3.11.6"
  }
 },
 "nbformat": 4,
 "nbformat_minor": 4
}
